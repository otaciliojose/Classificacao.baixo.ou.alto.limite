{
 "cells": [
  {
   "cell_type": "markdown",
   "id": "75e8c261",
   "metadata": {},
   "source": [
    "# Objetivo:\n",
    "\n",
    "- Prever se o novo cliente se encaixa em um baixo ou alto limite de cartão de crédito, classificando-os como alto limite ou não.\n",
    "\n",
    "#### Subobjetivos:\n",
    "\n",
    "- Identificar o melhor modelo de análise preditiva para atingir o objetivo.\n",
    "- Determinar o melhor limite de cartão de crédito para iniciar o relacionamento com o cliente.\n",
    "- Analisar as variáveis que influenciam no endividamento dos clientes.\n",
    "\n",
    "#### Cenário de adoção de alto limite:\n",
    "\n",
    "- Será adotado um limite de cartão de crédito acima de 4549 como critério para classificar os clientes como de alto limite.\n",
    "\n",
    "## Resumo:\n",
    "\n",
    "O objetivo do projeto é utilizar técnicas de análise preditiva para prever se os novos clientes se encaixam em um alto ou baixo limite de cartão de crédito. Será escolhido o melhor modelo de análise preditiva para atingir esse objetivo e determinar o limite de cartão de crédito mais adequado para o início do relacionamento com o cliente. O critério para considerar um cliente como de alto limite será um valor acima de 4549 de limite de cartão de crédito. Além disso, serão analisadas as variáveis que influenciam no endividamento dos clientes para auxiliar na tomada de decisão.\n",
    "\n",
    "# Projeto:"
   ]
  },
  {
   "cell_type": "code",
   "execution_count": 1,
   "id": "677a046d",
   "metadata": {},
   "outputs": [
    {
     "data": {
      "text/html": [
       "<div>\n",
       "<style scoped>\n",
       "    .dataframe tbody tr th:only-of-type {\n",
       "        vertical-align: middle;\n",
       "    }\n",
       "\n",
       "    .dataframe tbody tr th {\n",
       "        vertical-align: top;\n",
       "    }\n",
       "\n",
       "    .dataframe thead th {\n",
       "        text-align: right;\n",
       "    }\n",
       "</style>\n",
       "<table border=\"1\" class=\"dataframe\">\n",
       "  <thead>\n",
       "    <tr style=\"text-align: right;\">\n",
       "      <th></th>\n",
       "      <th>Unnamed: 0</th>\n",
       "      <th>Idade</th>\n",
       "      <th>Sexo</th>\n",
       "      <th>Dependentes</th>\n",
       "      <th>Nivel_educacional</th>\n",
       "      <th>Estado_civil</th>\n",
       "      <th>Renda</th>\n",
       "      <th>limite_do_cartao</th>\n",
       "    </tr>\n",
       "  </thead>\n",
       "  <tbody>\n",
       "    <tr>\n",
       "      <th>0</th>\n",
       "      <td>0</td>\n",
       "      <td>45</td>\n",
       "      <td>M</td>\n",
       "      <td>3</td>\n",
       "      <td>High School</td>\n",
       "      <td>Married</td>\n",
       "      <td>$60K - $80K</td>\n",
       "      <td>12691.0</td>\n",
       "    </tr>\n",
       "    <tr>\n",
       "      <th>1</th>\n",
       "      <td>1</td>\n",
       "      <td>49</td>\n",
       "      <td>F</td>\n",
       "      <td>5</td>\n",
       "      <td>Graduate</td>\n",
       "      <td>Single</td>\n",
       "      <td>Less than $40K</td>\n",
       "      <td>8256.0</td>\n",
       "    </tr>\n",
       "    <tr>\n",
       "      <th>2</th>\n",
       "      <td>2</td>\n",
       "      <td>51</td>\n",
       "      <td>M</td>\n",
       "      <td>3</td>\n",
       "      <td>Graduate</td>\n",
       "      <td>Married</td>\n",
       "      <td>$80K - $120K</td>\n",
       "      <td>3418.0</td>\n",
       "    </tr>\n",
       "    <tr>\n",
       "      <th>3</th>\n",
       "      <td>3</td>\n",
       "      <td>40</td>\n",
       "      <td>F</td>\n",
       "      <td>4</td>\n",
       "      <td>High School</td>\n",
       "      <td>Unknown</td>\n",
       "      <td>Less than $40K</td>\n",
       "      <td>3313.0</td>\n",
       "    </tr>\n",
       "    <tr>\n",
       "      <th>4</th>\n",
       "      <td>4</td>\n",
       "      <td>40</td>\n",
       "      <td>M</td>\n",
       "      <td>3</td>\n",
       "      <td>Uneducated</td>\n",
       "      <td>Married</td>\n",
       "      <td>$60K - $80K</td>\n",
       "      <td>4716.0</td>\n",
       "    </tr>\n",
       "    <tr>\n",
       "      <th>...</th>\n",
       "      <td>...</td>\n",
       "      <td>...</td>\n",
       "      <td>...</td>\n",
       "      <td>...</td>\n",
       "      <td>...</td>\n",
       "      <td>...</td>\n",
       "      <td>...</td>\n",
       "      <td>...</td>\n",
       "    </tr>\n",
       "    <tr>\n",
       "      <th>10122</th>\n",
       "      <td>10122</td>\n",
       "      <td>50</td>\n",
       "      <td>M</td>\n",
       "      <td>2</td>\n",
       "      <td>Graduate</td>\n",
       "      <td>Single</td>\n",
       "      <td>$40K - $60K</td>\n",
       "      <td>4003.0</td>\n",
       "    </tr>\n",
       "    <tr>\n",
       "      <th>10123</th>\n",
       "      <td>10123</td>\n",
       "      <td>41</td>\n",
       "      <td>M</td>\n",
       "      <td>2</td>\n",
       "      <td>Unknown</td>\n",
       "      <td>Divorced</td>\n",
       "      <td>$40K - $60K</td>\n",
       "      <td>4277.0</td>\n",
       "    </tr>\n",
       "    <tr>\n",
       "      <th>10124</th>\n",
       "      <td>10124</td>\n",
       "      <td>44</td>\n",
       "      <td>F</td>\n",
       "      <td>1</td>\n",
       "      <td>High School</td>\n",
       "      <td>Married</td>\n",
       "      <td>Less than $40K</td>\n",
       "      <td>5409.0</td>\n",
       "    </tr>\n",
       "    <tr>\n",
       "      <th>10125</th>\n",
       "      <td>10125</td>\n",
       "      <td>30</td>\n",
       "      <td>M</td>\n",
       "      <td>2</td>\n",
       "      <td>Graduate</td>\n",
       "      <td>Unknown</td>\n",
       "      <td>$40K - $60K</td>\n",
       "      <td>5281.0</td>\n",
       "    </tr>\n",
       "    <tr>\n",
       "      <th>10126</th>\n",
       "      <td>10126</td>\n",
       "      <td>43</td>\n",
       "      <td>F</td>\n",
       "      <td>2</td>\n",
       "      <td>Graduate</td>\n",
       "      <td>Married</td>\n",
       "      <td>Less than $40K</td>\n",
       "      <td>10388.0</td>\n",
       "    </tr>\n",
       "  </tbody>\n",
       "</table>\n",
       "<p>10127 rows × 8 columns</p>\n",
       "</div>"
      ],
      "text/plain": [
       "       Unnamed: 0  Idade Sexo  Dependentes Nivel_educacional Estado_civil  \\\n",
       "0               0     45    M            3       High School      Married   \n",
       "1               1     49    F            5          Graduate       Single   \n",
       "2               2     51    M            3          Graduate      Married   \n",
       "3               3     40    F            4       High School      Unknown   \n",
       "4               4     40    M            3        Uneducated      Married   \n",
       "...           ...    ...  ...          ...               ...          ...   \n",
       "10122       10122     50    M            2          Graduate       Single   \n",
       "10123       10123     41    M            2           Unknown     Divorced   \n",
       "10124       10124     44    F            1       High School      Married   \n",
       "10125       10125     30    M            2          Graduate      Unknown   \n",
       "10126       10126     43    F            2          Graduate      Married   \n",
       "\n",
       "                Renda  limite_do_cartao  \n",
       "0         $60K - $80K           12691.0  \n",
       "1      Less than $40K            8256.0  \n",
       "2        $80K - $120K            3418.0  \n",
       "3      Less than $40K            3313.0  \n",
       "4         $60K - $80K            4716.0  \n",
       "...               ...               ...  \n",
       "10122     $40K - $60K            4003.0  \n",
       "10123     $40K - $60K            4277.0  \n",
       "10124  Less than $40K            5409.0  \n",
       "10125     $40K - $60K            5281.0  \n",
       "10126  Less than $40K           10388.0  \n",
       "\n",
       "[10127 rows x 8 columns]"
      ]
     },
     "execution_count": 1,
     "metadata": {},
     "output_type": "execute_result"
    }
   ],
   "source": [
    "import pandas as pd \n",
    "dados = pd.read_csv('dadosprontos.csv')\n",
    "dados"
   ]
  },
  {
   "cell_type": "code",
   "execution_count": 2,
   "id": "108187a8",
   "metadata": {},
   "outputs": [
    {
     "data": {
      "text/html": [
       "<div>\n",
       "<style scoped>\n",
       "    .dataframe tbody tr th:only-of-type {\n",
       "        vertical-align: middle;\n",
       "    }\n",
       "\n",
       "    .dataframe tbody tr th {\n",
       "        vertical-align: top;\n",
       "    }\n",
       "\n",
       "    .dataframe thead th {\n",
       "        text-align: right;\n",
       "    }\n",
       "</style>\n",
       "<table border=\"1\" class=\"dataframe\">\n",
       "  <thead>\n",
       "    <tr style=\"text-align: right;\">\n",
       "      <th></th>\n",
       "      <th>Idade</th>\n",
       "      <th>Sexo</th>\n",
       "      <th>Dependentes</th>\n",
       "      <th>Nivel_educacional</th>\n",
       "      <th>Estado_civil</th>\n",
       "      <th>Renda</th>\n",
       "      <th>limite_do_cartao</th>\n",
       "    </tr>\n",
       "  </thead>\n",
       "  <tbody>\n",
       "    <tr>\n",
       "      <th>0</th>\n",
       "      <td>45</td>\n",
       "      <td>M</td>\n",
       "      <td>3</td>\n",
       "      <td>High School</td>\n",
       "      <td>Married</td>\n",
       "      <td>$60K - $80K</td>\n",
       "      <td>12691.0</td>\n",
       "    </tr>\n",
       "    <tr>\n",
       "      <th>1</th>\n",
       "      <td>49</td>\n",
       "      <td>F</td>\n",
       "      <td>5</td>\n",
       "      <td>Graduate</td>\n",
       "      <td>Single</td>\n",
       "      <td>Less than $40K</td>\n",
       "      <td>8256.0</td>\n",
       "    </tr>\n",
       "    <tr>\n",
       "      <th>2</th>\n",
       "      <td>51</td>\n",
       "      <td>M</td>\n",
       "      <td>3</td>\n",
       "      <td>Graduate</td>\n",
       "      <td>Married</td>\n",
       "      <td>$80K - $120K</td>\n",
       "      <td>3418.0</td>\n",
       "    </tr>\n",
       "    <tr>\n",
       "      <th>3</th>\n",
       "      <td>40</td>\n",
       "      <td>F</td>\n",
       "      <td>4</td>\n",
       "      <td>High School</td>\n",
       "      <td>Unknown</td>\n",
       "      <td>Less than $40K</td>\n",
       "      <td>3313.0</td>\n",
       "    </tr>\n",
       "    <tr>\n",
       "      <th>4</th>\n",
       "      <td>40</td>\n",
       "      <td>M</td>\n",
       "      <td>3</td>\n",
       "      <td>Uneducated</td>\n",
       "      <td>Married</td>\n",
       "      <td>$60K - $80K</td>\n",
       "      <td>4716.0</td>\n",
       "    </tr>\n",
       "    <tr>\n",
       "      <th>...</th>\n",
       "      <td>...</td>\n",
       "      <td>...</td>\n",
       "      <td>...</td>\n",
       "      <td>...</td>\n",
       "      <td>...</td>\n",
       "      <td>...</td>\n",
       "      <td>...</td>\n",
       "    </tr>\n",
       "    <tr>\n",
       "      <th>10122</th>\n",
       "      <td>50</td>\n",
       "      <td>M</td>\n",
       "      <td>2</td>\n",
       "      <td>Graduate</td>\n",
       "      <td>Single</td>\n",
       "      <td>$40K - $60K</td>\n",
       "      <td>4003.0</td>\n",
       "    </tr>\n",
       "    <tr>\n",
       "      <th>10123</th>\n",
       "      <td>41</td>\n",
       "      <td>M</td>\n",
       "      <td>2</td>\n",
       "      <td>Unknown</td>\n",
       "      <td>Divorced</td>\n",
       "      <td>$40K - $60K</td>\n",
       "      <td>4277.0</td>\n",
       "    </tr>\n",
       "    <tr>\n",
       "      <th>10124</th>\n",
       "      <td>44</td>\n",
       "      <td>F</td>\n",
       "      <td>1</td>\n",
       "      <td>High School</td>\n",
       "      <td>Married</td>\n",
       "      <td>Less than $40K</td>\n",
       "      <td>5409.0</td>\n",
       "    </tr>\n",
       "    <tr>\n",
       "      <th>10125</th>\n",
       "      <td>30</td>\n",
       "      <td>M</td>\n",
       "      <td>2</td>\n",
       "      <td>Graduate</td>\n",
       "      <td>Unknown</td>\n",
       "      <td>$40K - $60K</td>\n",
       "      <td>5281.0</td>\n",
       "    </tr>\n",
       "    <tr>\n",
       "      <th>10126</th>\n",
       "      <td>43</td>\n",
       "      <td>F</td>\n",
       "      <td>2</td>\n",
       "      <td>Graduate</td>\n",
       "      <td>Married</td>\n",
       "      <td>Less than $40K</td>\n",
       "      <td>10388.0</td>\n",
       "    </tr>\n",
       "  </tbody>\n",
       "</table>\n",
       "<p>10127 rows × 7 columns</p>\n",
       "</div>"
      ],
      "text/plain": [
       "       Idade Sexo  Dependentes Nivel_educacional Estado_civil           Renda  \\\n",
       "0         45    M            3       High School      Married     $60K - $80K   \n",
       "1         49    F            5          Graduate       Single  Less than $40K   \n",
       "2         51    M            3          Graduate      Married    $80K - $120K   \n",
       "3         40    F            4       High School      Unknown  Less than $40K   \n",
       "4         40    M            3        Uneducated      Married     $60K - $80K   \n",
       "...      ...  ...          ...               ...          ...             ...   \n",
       "10122     50    M            2          Graduate       Single     $40K - $60K   \n",
       "10123     41    M            2           Unknown     Divorced     $40K - $60K   \n",
       "10124     44    F            1       High School      Married  Less than $40K   \n",
       "10125     30    M            2          Graduate      Unknown     $40K - $60K   \n",
       "10126     43    F            2          Graduate      Married  Less than $40K   \n",
       "\n",
       "       limite_do_cartao  \n",
       "0               12691.0  \n",
       "1                8256.0  \n",
       "2                3418.0  \n",
       "3                3313.0  \n",
       "4                4716.0  \n",
       "...                 ...  \n",
       "10122            4003.0  \n",
       "10123            4277.0  \n",
       "10124            5409.0  \n",
       "10125            5281.0  \n",
       "10126           10388.0  \n",
       "\n",
       "[10127 rows x 7 columns]"
      ]
     },
     "execution_count": 2,
     "metadata": {},
     "output_type": "execute_result"
    }
   ],
   "source": [
    "# excluindo coluna de índice\n",
    "dados.drop(columns=['Unnamed: 0'], inplace=True)\n",
    "dados"
   ]
  },
  {
   "cell_type": "code",
   "execution_count": 3,
   "id": "75d0ee8a",
   "metadata": {},
   "outputs": [
    {
     "data": {
      "text/plain": [
       "count    10127.000000\n",
       "mean      8631.953698\n",
       "std       9088.776650\n",
       "min       1438.300000\n",
       "25%       2555.000000\n",
       "50%       4549.000000\n",
       "75%      11067.500000\n",
       "max      34516.000000\n",
       "Name: limite_do_cartao, dtype: float64"
      ]
     },
     "execution_count": 3,
     "metadata": {},
     "output_type": "execute_result"
    }
   ],
   "source": [
    "dados.limite_do_cartao.describe()\n",
    "# analisando a coluna limite_do_cartao"
   ]
  },
  {
   "cell_type": "code",
   "execution_count": 4,
   "id": "8d080428",
   "metadata": {},
   "outputs": [
    {
     "name": "stdout",
     "output_type": "stream",
     "text": [
      "<class 'pandas.core.frame.DataFrame'>\n",
      "RangeIndex: 10127 entries, 0 to 10126\n",
      "Data columns (total 7 columns):\n",
      " #   Column             Non-Null Count  Dtype \n",
      "---  ------             --------------  ----- \n",
      " 0   Idade              10127 non-null  int64 \n",
      " 1   Sexo               10127 non-null  object\n",
      " 2   Dependentes        10127 non-null  int64 \n",
      " 3   Nivel_educacional  10127 non-null  object\n",
      " 4   Estado_civil       10127 non-null  object\n",
      " 5   Renda              10127 non-null  object\n",
      " 6   limite_do_cartao   10127 non-null  int32 \n",
      "dtypes: int32(1), int64(2), object(4)\n",
      "memory usage: 514.4+ KB\n"
     ]
    }
   ],
   "source": [
    "# transformar a coluna limite_do_cartao em inteiro\n",
    "dados['limite_do_cartao'] = dados['limite_do_cartao'].astype(int)\n",
    "dados.info()"
   ]
  },
  {
   "cell_type": "code",
   "execution_count": 5,
   "id": "30176bd1",
   "metadata": {},
   "outputs": [
    {
     "data": {
      "text/html": [
       "<div>\n",
       "<style scoped>\n",
       "    .dataframe tbody tr th:only-of-type {\n",
       "        vertical-align: middle;\n",
       "    }\n",
       "\n",
       "    .dataframe tbody tr th {\n",
       "        vertical-align: top;\n",
       "    }\n",
       "\n",
       "    .dataframe thead th {\n",
       "        text-align: right;\n",
       "    }\n",
       "</style>\n",
       "<table border=\"1\" class=\"dataframe\">\n",
       "  <thead>\n",
       "    <tr style=\"text-align: right;\">\n",
       "      <th></th>\n",
       "      <th>Idade</th>\n",
       "      <th>Sexo</th>\n",
       "      <th>Dependentes</th>\n",
       "      <th>Nivel_educacional</th>\n",
       "      <th>Estado_civil</th>\n",
       "      <th>Renda</th>\n",
       "      <th>limite_do_cartao</th>\n",
       "    </tr>\n",
       "  </thead>\n",
       "  <tbody>\n",
       "    <tr>\n",
       "      <th>0</th>\n",
       "      <td>45</td>\n",
       "      <td>M</td>\n",
       "      <td>3</td>\n",
       "      <td>High School</td>\n",
       "      <td>Married</td>\n",
       "      <td>$60K - $80K</td>\n",
       "      <td>12691</td>\n",
       "    </tr>\n",
       "    <tr>\n",
       "      <th>1</th>\n",
       "      <td>49</td>\n",
       "      <td>F</td>\n",
       "      <td>5</td>\n",
       "      <td>Graduate</td>\n",
       "      <td>Single</td>\n",
       "      <td>Less than $40K</td>\n",
       "      <td>8256</td>\n",
       "    </tr>\n",
       "    <tr>\n",
       "      <th>2</th>\n",
       "      <td>51</td>\n",
       "      <td>M</td>\n",
       "      <td>3</td>\n",
       "      <td>Graduate</td>\n",
       "      <td>Married</td>\n",
       "      <td>$80K - $120K</td>\n",
       "      <td>3418</td>\n",
       "    </tr>\n",
       "    <tr>\n",
       "      <th>3</th>\n",
       "      <td>40</td>\n",
       "      <td>F</td>\n",
       "      <td>4</td>\n",
       "      <td>High School</td>\n",
       "      <td>Unknown</td>\n",
       "      <td>Less than $40K</td>\n",
       "      <td>3313</td>\n",
       "    </tr>\n",
       "    <tr>\n",
       "      <th>4</th>\n",
       "      <td>40</td>\n",
       "      <td>M</td>\n",
       "      <td>3</td>\n",
       "      <td>Uneducated</td>\n",
       "      <td>Married</td>\n",
       "      <td>$60K - $80K</td>\n",
       "      <td>4716</td>\n",
       "    </tr>\n",
       "    <tr>\n",
       "      <th>...</th>\n",
       "      <td>...</td>\n",
       "      <td>...</td>\n",
       "      <td>...</td>\n",
       "      <td>...</td>\n",
       "      <td>...</td>\n",
       "      <td>...</td>\n",
       "      <td>...</td>\n",
       "    </tr>\n",
       "    <tr>\n",
       "      <th>10122</th>\n",
       "      <td>50</td>\n",
       "      <td>M</td>\n",
       "      <td>2</td>\n",
       "      <td>Graduate</td>\n",
       "      <td>Single</td>\n",
       "      <td>$40K - $60K</td>\n",
       "      <td>4003</td>\n",
       "    </tr>\n",
       "    <tr>\n",
       "      <th>10123</th>\n",
       "      <td>41</td>\n",
       "      <td>M</td>\n",
       "      <td>2</td>\n",
       "      <td>Unknown</td>\n",
       "      <td>Divorced</td>\n",
       "      <td>$40K - $60K</td>\n",
       "      <td>4277</td>\n",
       "    </tr>\n",
       "    <tr>\n",
       "      <th>10124</th>\n",
       "      <td>44</td>\n",
       "      <td>F</td>\n",
       "      <td>1</td>\n",
       "      <td>High School</td>\n",
       "      <td>Married</td>\n",
       "      <td>Less than $40K</td>\n",
       "      <td>5409</td>\n",
       "    </tr>\n",
       "    <tr>\n",
       "      <th>10125</th>\n",
       "      <td>30</td>\n",
       "      <td>M</td>\n",
       "      <td>2</td>\n",
       "      <td>Graduate</td>\n",
       "      <td>Unknown</td>\n",
       "      <td>$40K - $60K</td>\n",
       "      <td>5281</td>\n",
       "    </tr>\n",
       "    <tr>\n",
       "      <th>10126</th>\n",
       "      <td>43</td>\n",
       "      <td>F</td>\n",
       "      <td>2</td>\n",
       "      <td>Graduate</td>\n",
       "      <td>Married</td>\n",
       "      <td>Less than $40K</td>\n",
       "      <td>10388</td>\n",
       "    </tr>\n",
       "  </tbody>\n",
       "</table>\n",
       "<p>10127 rows × 7 columns</p>\n",
       "</div>"
      ],
      "text/plain": [
       "       Idade Sexo  Dependentes Nivel_educacional Estado_civil           Renda  \\\n",
       "0         45    M            3       High School      Married     $60K - $80K   \n",
       "1         49    F            5          Graduate       Single  Less than $40K   \n",
       "2         51    M            3          Graduate      Married    $80K - $120K   \n",
       "3         40    F            4       High School      Unknown  Less than $40K   \n",
       "4         40    M            3        Uneducated      Married     $60K - $80K   \n",
       "...      ...  ...          ...               ...          ...             ...   \n",
       "10122     50    M            2          Graduate       Single     $40K - $60K   \n",
       "10123     41    M            2           Unknown     Divorced     $40K - $60K   \n",
       "10124     44    F            1       High School      Married  Less than $40K   \n",
       "10125     30    M            2          Graduate      Unknown     $40K - $60K   \n",
       "10126     43    F            2          Graduate      Married  Less than $40K   \n",
       "\n",
       "       limite_do_cartao  \n",
       "0                 12691  \n",
       "1                  8256  \n",
       "2                  3418  \n",
       "3                  3313  \n",
       "4                  4716  \n",
       "...                 ...  \n",
       "10122              4003  \n",
       "10123              4277  \n",
       "10124              5409  \n",
       "10125              5281  \n",
       "10126             10388  \n",
       "\n",
       "[10127 rows x 7 columns]"
      ]
     },
     "execution_count": 5,
     "metadata": {},
     "output_type": "execute_result"
    }
   ],
   "source": [
    "dados"
   ]
  },
  {
   "cell_type": "code",
   "execution_count": 6,
   "id": "49194725",
   "metadata": {},
   "outputs": [
    {
     "data": {
      "text/plain": [
       "count    10127.000000\n",
       "mean      8631.938679\n",
       "std       9088.788539\n",
       "min       1438.000000\n",
       "25%       2555.000000\n",
       "50%       4549.000000\n",
       "75%      11067.500000\n",
       "max      34516.000000\n",
       "Name: limite_do_cartao, dtype: float64"
      ]
     },
     "execution_count": 6,
     "metadata": {},
     "output_type": "execute_result"
    }
   ],
   "source": [
    "dados.limite_do_cartao.describe()"
   ]
  },
  {
   "cell_type": "code",
   "execution_count": 7,
   "id": "86dd3e23",
   "metadata": {},
   "outputs": [],
   "source": [
    "import seaborn as sns\n",
    "sns.set_style('darkgrid')"
   ]
  },
  {
   "cell_type": "code",
   "execution_count": 8,
   "id": "d285f04d",
   "metadata": {},
   "outputs": [
    {
     "data": {
      "image/png": "[encoded data removed]",
      "text/plain": [
       "<Figure size 640x480 with 1 Axes>"
      ]
     },
     "metadata": {},
     "output_type": "display_data"
    }
   ],
   "source": [
    "ax = sns.boxplot(data=dados, y='limite_do_cartao', width=0.3)"
   ]
  },
  {
   "cell_type": "code",
   "execution_count": 9,
   "id": "27526873",
   "metadata": {},
   "outputs": [],
   "source": [
    "# metade dos dados se encontram abaixo de 4549\n",
    "# neste caso será adotado clientes de alta renda acima de 4549 de limite de cartão de crédito"
   ]
  },
  {
   "cell_type": "markdown",
   "id": "5f1792d5",
   "metadata": {},
   "source": [
    "### Tratando a coluna limite de cartao\n",
    "\n",
    "#### sendo 0 para limites menores que 4549, e 1 para limites maiores"
   ]
  },
  {
   "cell_type": "code",
   "execution_count": 10,
   "id": "c4cdbbfe",
   "metadata": {},
   "outputs": [
    {
     "data": {
      "text/html": [
       "<div>\n",
       "<style scoped>\n",
       "    .dataframe tbody tr th:only-of-type {\n",
       "        vertical-align: middle;\n",
       "    }\n",
       "\n",
       "    .dataframe tbody tr th {\n",
       "        vertical-align: top;\n",
       "    }\n",
       "\n",
       "    .dataframe thead th {\n",
       "        text-align: right;\n",
       "    }\n",
       "</style>\n",
       "<table border=\"1\" class=\"dataframe\">\n",
       "  <thead>\n",
       "    <tr style=\"text-align: right;\">\n",
       "      <th></th>\n",
       "      <th>Idade</th>\n",
       "      <th>Sexo</th>\n",
       "      <th>Dependentes</th>\n",
       "      <th>Nivel_educacional</th>\n",
       "      <th>Estado_civil</th>\n",
       "      <th>Renda</th>\n",
       "      <th>limite_do_cartao</th>\n",
       "    </tr>\n",
       "  </thead>\n",
       "  <tbody>\n",
       "    <tr>\n",
       "      <th>2</th>\n",
       "      <td>51</td>\n",
       "      <td>M</td>\n",
       "      <td>3</td>\n",
       "      <td>Graduate</td>\n",
       "      <td>Married</td>\n",
       "      <td>$80K - $120K</td>\n",
       "      <td>3418</td>\n",
       "    </tr>\n",
       "    <tr>\n",
       "      <th>3</th>\n",
       "      <td>40</td>\n",
       "      <td>F</td>\n",
       "      <td>4</td>\n",
       "      <td>High School</td>\n",
       "      <td>Unknown</td>\n",
       "      <td>Less than $40K</td>\n",
       "      <td>3313</td>\n",
       "    </tr>\n",
       "    <tr>\n",
       "      <th>5</th>\n",
       "      <td>44</td>\n",
       "      <td>M</td>\n",
       "      <td>2</td>\n",
       "      <td>Graduate</td>\n",
       "      <td>Married</td>\n",
       "      <td>$40K - $60K</td>\n",
       "      <td>4010</td>\n",
       "    </tr>\n",
       "    <tr>\n",
       "      <th>14</th>\n",
       "      <td>57</td>\n",
       "      <td>F</td>\n",
       "      <td>2</td>\n",
       "      <td>Graduate</td>\n",
       "      <td>Married</td>\n",
       "      <td>Less than $40K</td>\n",
       "      <td>2436</td>\n",
       "    </tr>\n",
       "    <tr>\n",
       "      <th>15</th>\n",
       "      <td>44</td>\n",
       "      <td>M</td>\n",
       "      <td>4</td>\n",
       "      <td>Unknown</td>\n",
       "      <td>Unknown</td>\n",
       "      <td>$80K - $120K</td>\n",
       "      <td>4234</td>\n",
       "    </tr>\n",
       "    <tr>\n",
       "      <th>...</th>\n",
       "      <td>...</td>\n",
       "      <td>...</td>\n",
       "      <td>...</td>\n",
       "      <td>...</td>\n",
       "      <td>...</td>\n",
       "      <td>...</td>\n",
       "      <td>...</td>\n",
       "    </tr>\n",
       "    <tr>\n",
       "      <th>10106</th>\n",
       "      <td>58</td>\n",
       "      <td>F</td>\n",
       "      <td>0</td>\n",
       "      <td>Graduate</td>\n",
       "      <td>Single</td>\n",
       "      <td>Less than $40K</td>\n",
       "      <td>4299</td>\n",
       "    </tr>\n",
       "    <tr>\n",
       "      <th>10109</th>\n",
       "      <td>47</td>\n",
       "      <td>M</td>\n",
       "      <td>5</td>\n",
       "      <td>High School</td>\n",
       "      <td>Single</td>\n",
       "      <td>Less than $40K</td>\n",
       "      <td>4165</td>\n",
       "    </tr>\n",
       "    <tr>\n",
       "      <th>10121</th>\n",
       "      <td>56</td>\n",
       "      <td>F</td>\n",
       "      <td>1</td>\n",
       "      <td>Graduate</td>\n",
       "      <td>Single</td>\n",
       "      <td>Less than $40K</td>\n",
       "      <td>3688</td>\n",
       "    </tr>\n",
       "    <tr>\n",
       "      <th>10122</th>\n",
       "      <td>50</td>\n",
       "      <td>M</td>\n",
       "      <td>2</td>\n",
       "      <td>Graduate</td>\n",
       "      <td>Single</td>\n",
       "      <td>$40K - $60K</td>\n",
       "      <td>4003</td>\n",
       "    </tr>\n",
       "    <tr>\n",
       "      <th>10123</th>\n",
       "      <td>41</td>\n",
       "      <td>M</td>\n",
       "      <td>2</td>\n",
       "      <td>Unknown</td>\n",
       "      <td>Divorced</td>\n",
       "      <td>$40K - $60K</td>\n",
       "      <td>4277</td>\n",
       "    </tr>\n",
       "  </tbody>\n",
       "</table>\n",
       "<p>5066 rows × 7 columns</p>\n",
       "</div>"
      ],
      "text/plain": [
       "       Idade Sexo  Dependentes Nivel_educacional Estado_civil           Renda  \\\n",
       "2         51    M            3          Graduate      Married    $80K - $120K   \n",
       "3         40    F            4       High School      Unknown  Less than $40K   \n",
       "5         44    M            2          Graduate      Married     $40K - $60K   \n",
       "14        57    F            2          Graduate      Married  Less than $40K   \n",
       "15        44    M            4           Unknown      Unknown    $80K - $120K   \n",
       "...      ...  ...          ...               ...          ...             ...   \n",
       "10106     58    F            0          Graduate       Single  Less than $40K   \n",
       "10109     47    M            5       High School       Single  Less than $40K   \n",
       "10121     56    F            1          Graduate       Single  Less than $40K   \n",
       "10122     50    M            2          Graduate       Single     $40K - $60K   \n",
       "10123     41    M            2           Unknown     Divorced     $40K - $60K   \n",
       "\n",
       "       limite_do_cartao  \n",
       "2                  3418  \n",
       "3                  3313  \n",
       "5                  4010  \n",
       "14                 2436  \n",
       "15                 4234  \n",
       "...                 ...  \n",
       "10106              4299  \n",
       "10109              4165  \n",
       "10121              3688  \n",
       "10122              4003  \n",
       "10123              4277  \n",
       "\n",
       "[5066 rows x 7 columns]"
      ]
     },
     "execution_count": 10,
     "metadata": {},
     "output_type": "execute_result"
    }
   ],
   "source": [
    "menores = dados[dados.limite_do_cartao <= 4549]\n",
    "menores"
   ]
  },
  {
   "cell_type": "code",
   "execution_count": 11,
   "id": "76929c75",
   "metadata": {},
   "outputs": [
    {
     "data": {
      "text/plain": [
       "count    5066.000000\n",
       "mean     2623.410975\n",
       "std       851.496598\n",
       "min      1438.000000\n",
       "25%      1915.000000\n",
       "50%      2555.000000\n",
       "75%      3222.750000\n",
       "max      4549.000000\n",
       "Name: limite_do_cartao, dtype: float64"
      ]
     },
     "execution_count": 11,
     "metadata": {},
     "output_type": "execute_result"
    }
   ],
   "source": [
    "menores.limite_do_cartao.describe()"
   ]
  },
  {
   "cell_type": "code",
   "execution_count": 12,
   "id": "5fcc51b4",
   "metadata": {},
   "outputs": [
    {
     "name": "stderr",
     "output_type": "stream",
     "text": [
      "C:\\Users\\otaci\\AppData\\Local\\Temp\\ipykernel_10524\\586567604.py:1: SettingWithCopyWarning: \n",
      "A value is trying to be set on a copy of a slice from a DataFrame.\n",
      "Try using .loc[row_indexer,col_indexer] = value instead\n",
      "\n",
      "See the caveats in the documentation: https://pandas.pydata.org/pandas-docs/stable/user_guide/indexing.html#returning-a-view-versus-a-copy\n",
      "  menores['limite_do_cartao2'] = menores['limite_do_cartao'] * 0\n"
     ]
    },
    {
     "data": {
      "text/html": [
       "<div>\n",
       "<style scoped>\n",
       "    .dataframe tbody tr th:only-of-type {\n",
       "        vertical-align: middle;\n",
       "    }\n",
       "\n",
       "    .dataframe tbody tr th {\n",
       "        vertical-align: top;\n",
       "    }\n",
       "\n",
       "    .dataframe thead th {\n",
       "        text-align: right;\n",
       "    }\n",
       "</style>\n",
       "<table border=\"1\" class=\"dataframe\">\n",
       "  <thead>\n",
       "    <tr style=\"text-align: right;\">\n",
       "      <th></th>\n",
       "      <th>Idade</th>\n",
       "      <th>Sexo</th>\n",
       "      <th>Dependentes</th>\n",
       "      <th>Nivel_educacional</th>\n",
       "      <th>Estado_civil</th>\n",
       "      <th>Renda</th>\n",
       "      <th>limite_do_cartao</th>\n",
       "      <th>limite_do_cartao2</th>\n",
       "    </tr>\n",
       "  </thead>\n",
       "  <tbody>\n",
       "    <tr>\n",
       "      <th>2</th>\n",
       "      <td>51</td>\n",
       "      <td>M</td>\n",
       "      <td>3</td>\n",
       "      <td>Graduate</td>\n",
       "      <td>Married</td>\n",
       "      <td>$80K - $120K</td>\n",
       "      <td>3418</td>\n",
       "      <td>0</td>\n",
       "    </tr>\n",
       "    <tr>\n",
       "      <th>3</th>\n",
       "      <td>40</td>\n",
       "      <td>F</td>\n",
       "      <td>4</td>\n",
       "      <td>High School</td>\n",
       "      <td>Unknown</td>\n",
       "      <td>Less than $40K</td>\n",
       "      <td>3313</td>\n",
       "      <td>0</td>\n",
       "    </tr>\n",
       "    <tr>\n",
       "      <th>5</th>\n",
       "      <td>44</td>\n",
       "      <td>M</td>\n",
       "      <td>2</td>\n",
       "      <td>Graduate</td>\n",
       "      <td>Married</td>\n",
       "      <td>$40K - $60K</td>\n",
       "      <td>4010</td>\n",
       "      <td>0</td>\n",
       "    </tr>\n",
       "    <tr>\n",
       "      <th>14</th>\n",
       "      <td>57</td>\n",
       "      <td>F</td>\n",
       "      <td>2</td>\n",
       "      <td>Graduate</td>\n",
       "      <td>Married</td>\n",
       "      <td>Less than $40K</td>\n",
       "      <td>2436</td>\n",
       "      <td>0</td>\n",
       "    </tr>\n",
       "    <tr>\n",
       "      <th>15</th>\n",
       "      <td>44</td>\n",
       "      <td>M</td>\n",
       "      <td>4</td>\n",
       "      <td>Unknown</td>\n",
       "      <td>Unknown</td>\n",
       "      <td>$80K - $120K</td>\n",
       "      <td>4234</td>\n",
       "      <td>0</td>\n",
       "    </tr>\n",
       "    <tr>\n",
       "      <th>...</th>\n",
       "      <td>...</td>\n",
       "      <td>...</td>\n",
       "      <td>...</td>\n",
       "      <td>...</td>\n",
       "      <td>...</td>\n",
       "      <td>...</td>\n",
       "      <td>...</td>\n",
       "      <td>...</td>\n",
       "    </tr>\n",
       "    <tr>\n",
       "      <th>10106</th>\n",
       "      <td>58</td>\n",
       "      <td>F</td>\n",
       "      <td>0</td>\n",
       "      <td>Graduate</td>\n",
       "      <td>Single</td>\n",
       "      <td>Less than $40K</td>\n",
       "      <td>4299</td>\n",
       "      <td>0</td>\n",
       "    </tr>\n",
       "    <tr>\n",
       "      <th>10109</th>\n",
       "      <td>47</td>\n",
       "      <td>M</td>\n",
       "      <td>5</td>\n",
       "      <td>High School</td>\n",
       "      <td>Single</td>\n",
       "      <td>Less than $40K</td>\n",
       "      <td>4165</td>\n",
       "      <td>0</td>\n",
       "    </tr>\n",
       "    <tr>\n",
       "      <th>10121</th>\n",
       "      <td>56</td>\n",
       "      <td>F</td>\n",
       "      <td>1</td>\n",
       "      <td>Graduate</td>\n",
       "      <td>Single</td>\n",
       "      <td>Less than $40K</td>\n",
       "      <td>3688</td>\n",
       "      <td>0</td>\n",
       "    </tr>\n",
       "    <tr>\n",
       "      <th>10122</th>\n",
       "      <td>50</td>\n",
       "      <td>M</td>\n",
       "      <td>2</td>\n",
       "      <td>Graduate</td>\n",
       "      <td>Single</td>\n",
       "      <td>$40K - $60K</td>\n",
       "      <td>4003</td>\n",
       "      <td>0</td>\n",
       "    </tr>\n",
       "    <tr>\n",
       "      <th>10123</th>\n",
       "      <td>41</td>\n",
       "      <td>M</td>\n",
       "      <td>2</td>\n",
       "      <td>Unknown</td>\n",
       "      <td>Divorced</td>\n",
       "      <td>$40K - $60K</td>\n",
       "      <td>4277</td>\n",
       "      <td>0</td>\n",
       "    </tr>\n",
       "  </tbody>\n",
       "</table>\n",
       "<p>5066 rows × 8 columns</p>\n",
       "</div>"
      ],
      "text/plain": [
       "       Idade Sexo  Dependentes Nivel_educacional Estado_civil           Renda  \\\n",
       "2         51    M            3          Graduate      Married    $80K - $120K   \n",
       "3         40    F            4       High School      Unknown  Less than $40K   \n",
       "5         44    M            2          Graduate      Married     $40K - $60K   \n",
       "14        57    F            2          Graduate      Married  Less than $40K   \n",
       "15        44    M            4           Unknown      Unknown    $80K - $120K   \n",
       "...      ...  ...          ...               ...          ...             ...   \n",
       "10106     58    F            0          Graduate       Single  Less than $40K   \n",
       "10109     47    M            5       High School       Single  Less than $40K   \n",
       "10121     56    F            1          Graduate       Single  Less than $40K   \n",
       "10122     50    M            2          Graduate       Single     $40K - $60K   \n",
       "10123     41    M            2           Unknown     Divorced     $40K - $60K   \n",
       "\n",
       "       limite_do_cartao  limite_do_cartao2  \n",
       "2                  3418                  0  \n",
       "3                  3313                  0  \n",
       "5                  4010                  0  \n",
       "14                 2436                  0  \n",
       "15                 4234                  0  \n",
       "...                 ...                ...  \n",
       "10106              4299                  0  \n",
       "10109              4165                  0  \n",
       "10121              3688                  0  \n",
       "10122              4003                  0  \n",
       "10123              4277                  0  \n",
       "\n",
       "[5066 rows x 8 columns]"
      ]
     },
     "execution_count": 12,
     "metadata": {},
     "output_type": "execute_result"
    }
   ],
   "source": [
    "menores['limite_do_cartao2'] = menores['limite_do_cartao'] * 0\n",
    "menores"
   ]
  },
  {
   "cell_type": "code",
   "execution_count": 13,
   "id": "e08818a0",
   "metadata": {},
   "outputs": [
    {
     "name": "stderr",
     "output_type": "stream",
     "text": [
      "C:\\Users\\otaci\\AppData\\Local\\Temp\\ipykernel_10524\\3240060466.py:1: SettingWithCopyWarning: \n",
      "A value is trying to be set on a copy of a slice from a DataFrame\n",
      "\n",
      "See the caveats in the documentation: https://pandas.pydata.org/pandas-docs/stable/user_guide/indexing.html#returning-a-view-versus-a-copy\n",
      "  menores.drop(columns=['limite_do_cartao'], inplace=True)\n"
     ]
    },
    {
     "data": {
      "text/html": [
       "<div>\n",
       "<style scoped>\n",
       "    .dataframe tbody tr th:only-of-type {\n",
       "        vertical-align: middle;\n",
       "    }\n",
       "\n",
       "    .dataframe tbody tr th {\n",
       "        vertical-align: top;\n",
       "    }\n",
       "\n",
       "    .dataframe thead th {\n",
       "        text-align: right;\n",
       "    }\n",
       "</style>\n",
       "<table border=\"1\" class=\"dataframe\">\n",
       "  <thead>\n",
       "    <tr style=\"text-align: right;\">\n",
       "      <th></th>\n",
       "      <th>Idade</th>\n",
       "      <th>Sexo</th>\n",
       "      <th>Dependentes</th>\n",
       "      <th>Nivel_educacional</th>\n",
       "      <th>Estado_civil</th>\n",
       "      <th>Renda</th>\n",
       "      <th>limite_do_cartao2</th>\n",
       "    </tr>\n",
       "  </thead>\n",
       "  <tbody>\n",
       "    <tr>\n",
       "      <th>2</th>\n",
       "      <td>51</td>\n",
       "      <td>M</td>\n",
       "      <td>3</td>\n",
       "      <td>Graduate</td>\n",
       "      <td>Married</td>\n",
       "      <td>$80K - $120K</td>\n",
       "      <td>0</td>\n",
       "    </tr>\n",
       "    <tr>\n",
       "      <th>3</th>\n",
       "      <td>40</td>\n",
       "      <td>F</td>\n",
       "      <td>4</td>\n",
       "      <td>High School</td>\n",
       "      <td>Unknown</td>\n",
       "      <td>Less than $40K</td>\n",
       "      <td>0</td>\n",
       "    </tr>\n",
       "    <tr>\n",
       "      <th>5</th>\n",
       "      <td>44</td>\n",
       "      <td>M</td>\n",
       "      <td>2</td>\n",
       "      <td>Graduate</td>\n",
       "      <td>Married</td>\n",
       "      <td>$40K - $60K</td>\n",
       "      <td>0</td>\n",
       "    </tr>\n",
       "    <tr>\n",
       "      <th>14</th>\n",
       "      <td>57</td>\n",
       "      <td>F</td>\n",
       "      <td>2</td>\n",
       "      <td>Graduate</td>\n",
       "      <td>Married</td>\n",
       "      <td>Less than $40K</td>\n",
       "      <td>0</td>\n",
       "    </tr>\n",
       "    <tr>\n",
       "      <th>15</th>\n",
       "      <td>44</td>\n",
       "      <td>M</td>\n",
       "      <td>4</td>\n",
       "      <td>Unknown</td>\n",
       "      <td>Unknown</td>\n",
       "      <td>$80K - $120K</td>\n",
       "      <td>0</td>\n",
       "    </tr>\n",
       "  </tbody>\n",
       "</table>\n",
       "</div>"
      ],
      "text/plain": [
       "    Idade Sexo  Dependentes Nivel_educacional Estado_civil           Renda  \\\n",
       "2      51    M            3          Graduate      Married    $80K - $120K   \n",
       "3      40    F            4       High School      Unknown  Less than $40K   \n",
       "5      44    M            2          Graduate      Married     $40K - $60K   \n",
       "14     57    F            2          Graduate      Married  Less than $40K   \n",
       "15     44    M            4           Unknown      Unknown    $80K - $120K   \n",
       "\n",
       "    limite_do_cartao2  \n",
       "2                   0  \n",
       "3                   0  \n",
       "5                   0  \n",
       "14                  0  \n",
       "15                  0  "
      ]
     },
     "execution_count": 13,
     "metadata": {},
     "output_type": "execute_result"
    }
   ],
   "source": [
    "menores.drop(columns=['limite_do_cartao'], inplace=True)\n",
    "menores.head()"
   ]
  },
  {
   "cell_type": "code",
   "execution_count": 14,
   "id": "8ea649e9",
   "metadata": {},
   "outputs": [
    {
     "data": {
      "text/html": [
       "<div>\n",
       "<style scoped>\n",
       "    .dataframe tbody tr th:only-of-type {\n",
       "        vertical-align: middle;\n",
       "    }\n",
       "\n",
       "    .dataframe tbody tr th {\n",
       "        vertical-align: top;\n",
       "    }\n",
       "\n",
       "    .dataframe thead th {\n",
       "        text-align: right;\n",
       "    }\n",
       "</style>\n",
       "<table border=\"1\" class=\"dataframe\">\n",
       "  <thead>\n",
       "    <tr style=\"text-align: right;\">\n",
       "      <th></th>\n",
       "      <th>Idade</th>\n",
       "      <th>Sexo</th>\n",
       "      <th>Dependentes</th>\n",
       "      <th>Nivel_educacional</th>\n",
       "      <th>Estado_civil</th>\n",
       "      <th>Renda</th>\n",
       "      <th>limite_do_cartao</th>\n",
       "    </tr>\n",
       "  </thead>\n",
       "  <tbody>\n",
       "    <tr>\n",
       "      <th>0</th>\n",
       "      <td>45</td>\n",
       "      <td>M</td>\n",
       "      <td>3</td>\n",
       "      <td>High School</td>\n",
       "      <td>Married</td>\n",
       "      <td>$60K - $80K</td>\n",
       "      <td>12691</td>\n",
       "    </tr>\n",
       "    <tr>\n",
       "      <th>1</th>\n",
       "      <td>49</td>\n",
       "      <td>F</td>\n",
       "      <td>5</td>\n",
       "      <td>Graduate</td>\n",
       "      <td>Single</td>\n",
       "      <td>Less than $40K</td>\n",
       "      <td>8256</td>\n",
       "    </tr>\n",
       "    <tr>\n",
       "      <th>4</th>\n",
       "      <td>40</td>\n",
       "      <td>M</td>\n",
       "      <td>3</td>\n",
       "      <td>Uneducated</td>\n",
       "      <td>Married</td>\n",
       "      <td>$60K - $80K</td>\n",
       "      <td>4716</td>\n",
       "    </tr>\n",
       "    <tr>\n",
       "      <th>6</th>\n",
       "      <td>51</td>\n",
       "      <td>M</td>\n",
       "      <td>4</td>\n",
       "      <td>Unknown</td>\n",
       "      <td>Married</td>\n",
       "      <td>$120K +</td>\n",
       "      <td>34516</td>\n",
       "    </tr>\n",
       "    <tr>\n",
       "      <th>7</th>\n",
       "      <td>32</td>\n",
       "      <td>M</td>\n",
       "      <td>0</td>\n",
       "      <td>High School</td>\n",
       "      <td>Unknown</td>\n",
       "      <td>$60K - $80K</td>\n",
       "      <td>29081</td>\n",
       "    </tr>\n",
       "    <tr>\n",
       "      <th>...</th>\n",
       "      <td>...</td>\n",
       "      <td>...</td>\n",
       "      <td>...</td>\n",
       "      <td>...</td>\n",
       "      <td>...</td>\n",
       "      <td>...</td>\n",
       "      <td>...</td>\n",
       "    </tr>\n",
       "    <tr>\n",
       "      <th>10119</th>\n",
       "      <td>55</td>\n",
       "      <td>F</td>\n",
       "      <td>3</td>\n",
       "      <td>Uneducated</td>\n",
       "      <td>Single</td>\n",
       "      <td>Unknown</td>\n",
       "      <td>14657</td>\n",
       "    </tr>\n",
       "    <tr>\n",
       "      <th>10120</th>\n",
       "      <td>54</td>\n",
       "      <td>M</td>\n",
       "      <td>1</td>\n",
       "      <td>High School</td>\n",
       "      <td>Single</td>\n",
       "      <td>$60K - $80K</td>\n",
       "      <td>13940</td>\n",
       "    </tr>\n",
       "    <tr>\n",
       "      <th>10124</th>\n",
       "      <td>44</td>\n",
       "      <td>F</td>\n",
       "      <td>1</td>\n",
       "      <td>High School</td>\n",
       "      <td>Married</td>\n",
       "      <td>Less than $40K</td>\n",
       "      <td>5409</td>\n",
       "    </tr>\n",
       "    <tr>\n",
       "      <th>10125</th>\n",
       "      <td>30</td>\n",
       "      <td>M</td>\n",
       "      <td>2</td>\n",
       "      <td>Graduate</td>\n",
       "      <td>Unknown</td>\n",
       "      <td>$40K - $60K</td>\n",
       "      <td>5281</td>\n",
       "    </tr>\n",
       "    <tr>\n",
       "      <th>10126</th>\n",
       "      <td>43</td>\n",
       "      <td>F</td>\n",
       "      <td>2</td>\n",
       "      <td>Graduate</td>\n",
       "      <td>Married</td>\n",
       "      <td>Less than $40K</td>\n",
       "      <td>10388</td>\n",
       "    </tr>\n",
       "  </tbody>\n",
       "</table>\n",
       "<p>5061 rows × 7 columns</p>\n",
       "</div>"
      ],
      "text/plain": [
       "       Idade Sexo  Dependentes Nivel_educacional Estado_civil           Renda  \\\n",
       "0         45    M            3       High School      Married     $60K - $80K   \n",
       "1         49    F            5          Graduate       Single  Less than $40K   \n",
       "4         40    M            3        Uneducated      Married     $60K - $80K   \n",
       "6         51    M            4           Unknown      Married         $120K +   \n",
       "7         32    M            0       High School      Unknown     $60K - $80K   \n",
       "...      ...  ...          ...               ...          ...             ...   \n",
       "10119     55    F            3        Uneducated       Single         Unknown   \n",
       "10120     54    M            1       High School       Single     $60K - $80K   \n",
       "10124     44    F            1       High School      Married  Less than $40K   \n",
       "10125     30    M            2          Graduate      Unknown     $40K - $60K   \n",
       "10126     43    F            2          Graduate      Married  Less than $40K   \n",
       "\n",
       "       limite_do_cartao  \n",
       "0                 12691  \n",
       "1                  8256  \n",
       "4                  4716  \n",
       "6                 34516  \n",
       "7                 29081  \n",
       "...                 ...  \n",
       "10119             14657  \n",
       "10120             13940  \n",
       "10124              5409  \n",
       "10125              5281  \n",
       "10126             10388  \n",
       "\n",
       "[5061 rows x 7 columns]"
      ]
     },
     "execution_count": 14,
     "metadata": {},
     "output_type": "execute_result"
    }
   ],
   "source": [
    "maiores = dados[dados.limite_do_cartao > 4549]\n",
    "maiores"
   ]
  },
  {
   "cell_type": "code",
   "execution_count": 15,
   "id": "1502428b",
   "metadata": {},
   "outputs": [
    {
     "data": {
      "text/plain": [
       "count     5061.000000\n",
       "mean     14646.402490\n",
       "std       9605.113479\n",
       "min       4552.000000\n",
       "25%       6973.000000\n",
       "50%      11077.000000\n",
       "75%      19995.000000\n",
       "max      34516.000000\n",
       "Name: limite_do_cartao, dtype: float64"
      ]
     },
     "execution_count": 15,
     "metadata": {},
     "output_type": "execute_result"
    }
   ],
   "source": [
    "maiores.limite_do_cartao.describe()"
   ]
  },
  {
   "cell_type": "code",
   "execution_count": 16,
   "id": "6ebb2a8f",
   "metadata": {},
   "outputs": [
    {
     "name": "stderr",
     "output_type": "stream",
     "text": [
      "C:\\Users\\otaci\\AppData\\Local\\Temp\\ipykernel_10524\\3855202346.py:1: SettingWithCopyWarning: \n",
      "A value is trying to be set on a copy of a slice from a DataFrame.\n",
      "Try using .loc[row_indexer,col_indexer] = value instead\n",
      "\n",
      "See the caveats in the documentation: https://pandas.pydata.org/pandas-docs/stable/user_guide/indexing.html#returning-a-view-versus-a-copy\n",
      "  maiores['limite_do_cartao2'] = maiores['limite_do_cartao'] * 0 + 1\n"
     ]
    },
    {
     "data": {
      "text/html": [
       "<div>\n",
       "<style scoped>\n",
       "    .dataframe tbody tr th:only-of-type {\n",
       "        vertical-align: middle;\n",
       "    }\n",
       "\n",
       "    .dataframe tbody tr th {\n",
       "        vertical-align: top;\n",
       "    }\n",
       "\n",
       "    .dataframe thead th {\n",
       "        text-align: right;\n",
       "    }\n",
       "</style>\n",
       "<table border=\"1\" class=\"dataframe\">\n",
       "  <thead>\n",
       "    <tr style=\"text-align: right;\">\n",
       "      <th></th>\n",
       "      <th>Idade</th>\n",
       "      <th>Sexo</th>\n",
       "      <th>Dependentes</th>\n",
       "      <th>Nivel_educacional</th>\n",
       "      <th>Estado_civil</th>\n",
       "      <th>Renda</th>\n",
       "      <th>limite_do_cartao</th>\n",
       "      <th>limite_do_cartao2</th>\n",
       "    </tr>\n",
       "  </thead>\n",
       "  <tbody>\n",
       "    <tr>\n",
       "      <th>0</th>\n",
       "      <td>45</td>\n",
       "      <td>M</td>\n",
       "      <td>3</td>\n",
       "      <td>High School</td>\n",
       "      <td>Married</td>\n",
       "      <td>$60K - $80K</td>\n",
       "      <td>12691</td>\n",
       "      <td>1</td>\n",
       "    </tr>\n",
       "    <tr>\n",
       "      <th>1</th>\n",
       "      <td>49</td>\n",
       "      <td>F</td>\n",
       "      <td>5</td>\n",
       "      <td>Graduate</td>\n",
       "      <td>Single</td>\n",
       "      <td>Less than $40K</td>\n",
       "      <td>8256</td>\n",
       "      <td>1</td>\n",
       "    </tr>\n",
       "    <tr>\n",
       "      <th>4</th>\n",
       "      <td>40</td>\n",
       "      <td>M</td>\n",
       "      <td>3</td>\n",
       "      <td>Uneducated</td>\n",
       "      <td>Married</td>\n",
       "      <td>$60K - $80K</td>\n",
       "      <td>4716</td>\n",
       "      <td>1</td>\n",
       "    </tr>\n",
       "    <tr>\n",
       "      <th>6</th>\n",
       "      <td>51</td>\n",
       "      <td>M</td>\n",
       "      <td>4</td>\n",
       "      <td>Unknown</td>\n",
       "      <td>Married</td>\n",
       "      <td>$120K +</td>\n",
       "      <td>34516</td>\n",
       "      <td>1</td>\n",
       "    </tr>\n",
       "    <tr>\n",
       "      <th>7</th>\n",
       "      <td>32</td>\n",
       "      <td>M</td>\n",
       "      <td>0</td>\n",
       "      <td>High School</td>\n",
       "      <td>Unknown</td>\n",
       "      <td>$60K - $80K</td>\n",
       "      <td>29081</td>\n",
       "      <td>1</td>\n",
       "    </tr>\n",
       "  </tbody>\n",
       "</table>\n",
       "</div>"
      ],
      "text/plain": [
       "   Idade Sexo  Dependentes Nivel_educacional Estado_civil           Renda  \\\n",
       "0     45    M            3       High School      Married     $60K - $80K   \n",
       "1     49    F            5          Graduate       Single  Less than $40K   \n",
       "4     40    M            3        Uneducated      Married     $60K - $80K   \n",
       "6     51    M            4           Unknown      Married         $120K +   \n",
       "7     32    M            0       High School      Unknown     $60K - $80K   \n",
       "\n",
       "   limite_do_cartao  limite_do_cartao2  \n",
       "0             12691                  1  \n",
       "1              8256                  1  \n",
       "4              4716                  1  \n",
       "6             34516                  1  \n",
       "7             29081                  1  "
      ]
     },
     "execution_count": 16,
     "metadata": {},
     "output_type": "execute_result"
    }
   ],
   "source": [
    "maiores['limite_do_cartao2'] = maiores['limite_do_cartao'] * 0 + 1\n",
    "maiores.head()"
   ]
  },
  {
   "cell_type": "code",
   "execution_count": 17,
   "id": "fc0b4173",
   "metadata": {},
   "outputs": [
    {
     "name": "stderr",
     "output_type": "stream",
     "text": [
      "C:\\Users\\otaci\\AppData\\Local\\Temp\\ipykernel_10524\\1838454564.py:1: SettingWithCopyWarning: \n",
      "A value is trying to be set on a copy of a slice from a DataFrame\n",
      "\n",
      "See the caveats in the documentation: https://pandas.pydata.org/pandas-docs/stable/user_guide/indexing.html#returning-a-view-versus-a-copy\n",
      "  maiores.drop(columns=['limite_do_cartao'], inplace=True)\n"
     ]
    }
   ],
   "source": [
    "maiores.drop(columns=['limite_do_cartao'], inplace=True)"
   ]
  },
  {
   "cell_type": "code",
   "execution_count": 18,
   "id": "a5f28670",
   "metadata": {},
   "outputs": [
    {
     "data": {
      "text/html": [
       "<div>\n",
       "<style scoped>\n",
       "    .dataframe tbody tr th:only-of-type {\n",
       "        vertical-align: middle;\n",
       "    }\n",
       "\n",
       "    .dataframe tbody tr th {\n",
       "        vertical-align: top;\n",
       "    }\n",
       "\n",
       "    .dataframe thead th {\n",
       "        text-align: right;\n",
       "    }\n",
       "</style>\n",
       "<table border=\"1\" class=\"dataframe\">\n",
       "  <thead>\n",
       "    <tr style=\"text-align: right;\">\n",
       "      <th></th>\n",
       "      <th>Idade</th>\n",
       "      <th>Sexo</th>\n",
       "      <th>Dependentes</th>\n",
       "      <th>Nivel_educacional</th>\n",
       "      <th>Estado_civil</th>\n",
       "      <th>Renda</th>\n",
       "      <th>limite_do_cartao2</th>\n",
       "    </tr>\n",
       "  </thead>\n",
       "  <tbody>\n",
       "    <tr>\n",
       "      <th>2</th>\n",
       "      <td>51</td>\n",
       "      <td>M</td>\n",
       "      <td>3</td>\n",
       "      <td>Graduate</td>\n",
       "      <td>Married</td>\n",
       "      <td>$80K - $120K</td>\n",
       "      <td>0</td>\n",
       "    </tr>\n",
       "    <tr>\n",
       "      <th>3</th>\n",
       "      <td>40</td>\n",
       "      <td>F</td>\n",
       "      <td>4</td>\n",
       "      <td>High School</td>\n",
       "      <td>Unknown</td>\n",
       "      <td>Less than $40K</td>\n",
       "      <td>0</td>\n",
       "    </tr>\n",
       "  </tbody>\n",
       "</table>\n",
       "</div>"
      ],
      "text/plain": [
       "   Idade Sexo  Dependentes Nivel_educacional Estado_civil           Renda  \\\n",
       "2     51    M            3          Graduate      Married    $80K - $120K   \n",
       "3     40    F            4       High School      Unknown  Less than $40K   \n",
       "\n",
       "   limite_do_cartao2  \n",
       "2                  0  \n",
       "3                  0  "
      ]
     },
     "execution_count": 18,
     "metadata": {},
     "output_type": "execute_result"
    }
   ],
   "source": [
    "menores.head(2)"
   ]
  },
  {
   "cell_type": "code",
   "execution_count": 19,
   "id": "d5dc4c02",
   "metadata": {},
   "outputs": [
    {
     "data": {
      "text/html": [
       "<div>\n",
       "<style scoped>\n",
       "    .dataframe tbody tr th:only-of-type {\n",
       "        vertical-align: middle;\n",
       "    }\n",
       "\n",
       "    .dataframe tbody tr th {\n",
       "        vertical-align: top;\n",
       "    }\n",
       "\n",
       "    .dataframe thead th {\n",
       "        text-align: right;\n",
       "    }\n",
       "</style>\n",
       "<table border=\"1\" class=\"dataframe\">\n",
       "  <thead>\n",
       "    <tr style=\"text-align: right;\">\n",
       "      <th></th>\n",
       "      <th>Idade</th>\n",
       "      <th>Sexo</th>\n",
       "      <th>Dependentes</th>\n",
       "      <th>Nivel_educacional</th>\n",
       "      <th>Estado_civil</th>\n",
       "      <th>Renda</th>\n",
       "      <th>limite_do_cartao2</th>\n",
       "    </tr>\n",
       "  </thead>\n",
       "  <tbody>\n",
       "    <tr>\n",
       "      <th>0</th>\n",
       "      <td>45</td>\n",
       "      <td>M</td>\n",
       "      <td>3</td>\n",
       "      <td>High School</td>\n",
       "      <td>Married</td>\n",
       "      <td>$60K - $80K</td>\n",
       "      <td>1</td>\n",
       "    </tr>\n",
       "    <tr>\n",
       "      <th>1</th>\n",
       "      <td>49</td>\n",
       "      <td>F</td>\n",
       "      <td>5</td>\n",
       "      <td>Graduate</td>\n",
       "      <td>Single</td>\n",
       "      <td>Less than $40K</td>\n",
       "      <td>1</td>\n",
       "    </tr>\n",
       "  </tbody>\n",
       "</table>\n",
       "</div>"
      ],
      "text/plain": [
       "   Idade Sexo  Dependentes Nivel_educacional Estado_civil           Renda  \\\n",
       "0     45    M            3       High School      Married     $60K - $80K   \n",
       "1     49    F            5          Graduate       Single  Less than $40K   \n",
       "\n",
       "   limite_do_cartao2  \n",
       "0                  1  \n",
       "1                  1  "
      ]
     },
     "execution_count": 19,
     "metadata": {},
     "output_type": "execute_result"
    }
   ],
   "source": [
    "maiores.head(2)"
   ]
  },
  {
   "cell_type": "markdown",
   "id": "70f32e74",
   "metadata": {},
   "source": [
    "# Juntando os dois dados para formar a coluna limite de cartão com 0 e 1 "
   ]
  },
  {
   "cell_type": "code",
   "execution_count": 20,
   "id": "c12467a2",
   "metadata": {},
   "outputs": [
    {
     "data": {
      "text/html": [
       "<div>\n",
       "<style scoped>\n",
       "    .dataframe tbody tr th:only-of-type {\n",
       "        vertical-align: middle;\n",
       "    }\n",
       "\n",
       "    .dataframe tbody tr th {\n",
       "        vertical-align: top;\n",
       "    }\n",
       "\n",
       "    .dataframe thead th {\n",
       "        text-align: right;\n",
       "    }\n",
       "</style>\n",
       "<table border=\"1\" class=\"dataframe\">\n",
       "  <thead>\n",
       "    <tr style=\"text-align: right;\">\n",
       "      <th></th>\n",
       "      <th>Idade</th>\n",
       "      <th>Sexo</th>\n",
       "      <th>Dependentes</th>\n",
       "      <th>Nivel_educacional</th>\n",
       "      <th>Estado_civil</th>\n",
       "      <th>Renda</th>\n",
       "      <th>limite_do_cartao2</th>\n",
       "    </tr>\n",
       "  </thead>\n",
       "  <tbody>\n",
       "    <tr>\n",
       "      <th>0</th>\n",
       "      <td>51</td>\n",
       "      <td>M</td>\n",
       "      <td>3</td>\n",
       "      <td>Graduate</td>\n",
       "      <td>Married</td>\n",
       "      <td>$80K - $120K</td>\n",
       "      <td>0</td>\n",
       "    </tr>\n",
       "    <tr>\n",
       "      <th>1</th>\n",
       "      <td>51</td>\n",
       "      <td>M</td>\n",
       "      <td>3</td>\n",
       "      <td>Graduate</td>\n",
       "      <td>Married</td>\n",
       "      <td>$80K - $120K</td>\n",
       "      <td>0</td>\n",
       "    </tr>\n",
       "    <tr>\n",
       "      <th>2</th>\n",
       "      <td>40</td>\n",
       "      <td>F</td>\n",
       "      <td>4</td>\n",
       "      <td>High School</td>\n",
       "      <td>Unknown</td>\n",
       "      <td>Less than $40K</td>\n",
       "      <td>0</td>\n",
       "    </tr>\n",
       "    <tr>\n",
       "      <th>3</th>\n",
       "      <td>44</td>\n",
       "      <td>M</td>\n",
       "      <td>2</td>\n",
       "      <td>Graduate</td>\n",
       "      <td>Married</td>\n",
       "      <td>$40K - $60K</td>\n",
       "      <td>0</td>\n",
       "    </tr>\n",
       "    <tr>\n",
       "      <th>4</th>\n",
       "      <td>44</td>\n",
       "      <td>M</td>\n",
       "      <td>2</td>\n",
       "      <td>Graduate</td>\n",
       "      <td>Married</td>\n",
       "      <td>$40K - $60K</td>\n",
       "      <td>0</td>\n",
       "    </tr>\n",
       "    <tr>\n",
       "      <th>...</th>\n",
       "      <td>...</td>\n",
       "      <td>...</td>\n",
       "      <td>...</td>\n",
       "      <td>...</td>\n",
       "      <td>...</td>\n",
       "      <td>...</td>\n",
       "      <td>...</td>\n",
       "    </tr>\n",
       "    <tr>\n",
       "      <th>10122</th>\n",
       "      <td>55</td>\n",
       "      <td>F</td>\n",
       "      <td>3</td>\n",
       "      <td>Uneducated</td>\n",
       "      <td>Single</td>\n",
       "      <td>Unknown</td>\n",
       "      <td>1</td>\n",
       "    </tr>\n",
       "    <tr>\n",
       "      <th>10123</th>\n",
       "      <td>54</td>\n",
       "      <td>M</td>\n",
       "      <td>1</td>\n",
       "      <td>High School</td>\n",
       "      <td>Single</td>\n",
       "      <td>$60K - $80K</td>\n",
       "      <td>1</td>\n",
       "    </tr>\n",
       "    <tr>\n",
       "      <th>10124</th>\n",
       "      <td>44</td>\n",
       "      <td>F</td>\n",
       "      <td>1</td>\n",
       "      <td>High School</td>\n",
       "      <td>Married</td>\n",
       "      <td>Less than $40K</td>\n",
       "      <td>1</td>\n",
       "    </tr>\n",
       "    <tr>\n",
       "      <th>10125</th>\n",
       "      <td>30</td>\n",
       "      <td>M</td>\n",
       "      <td>2</td>\n",
       "      <td>Graduate</td>\n",
       "      <td>Unknown</td>\n",
       "      <td>$40K - $60K</td>\n",
       "      <td>1</td>\n",
       "    </tr>\n",
       "    <tr>\n",
       "      <th>10126</th>\n",
       "      <td>43</td>\n",
       "      <td>F</td>\n",
       "      <td>2</td>\n",
       "      <td>Graduate</td>\n",
       "      <td>Married</td>\n",
       "      <td>Less than $40K</td>\n",
       "      <td>1</td>\n",
       "    </tr>\n",
       "  </tbody>\n",
       "</table>\n",
       "<p>10127 rows × 7 columns</p>\n",
       "</div>"
      ],
      "text/plain": [
       "       Idade Sexo  Dependentes Nivel_educacional Estado_civil           Renda  \\\n",
       "0         51    M            3          Graduate      Married    $80K - $120K   \n",
       "1         51    M            3          Graduate      Married    $80K - $120K   \n",
       "2         40    F            4       High School      Unknown  Less than $40K   \n",
       "3         44    M            2          Graduate      Married     $40K - $60K   \n",
       "4         44    M            2          Graduate      Married     $40K - $60K   \n",
       "...      ...  ...          ...               ...          ...             ...   \n",
       "10122     55    F            3        Uneducated       Single         Unknown   \n",
       "10123     54    M            1       High School       Single     $60K - $80K   \n",
       "10124     44    F            1       High School      Married  Less than $40K   \n",
       "10125     30    M            2          Graduate      Unknown     $40K - $60K   \n",
       "10126     43    F            2          Graduate      Married  Less than $40K   \n",
       "\n",
       "       limite_do_cartao2  \n",
       "0                      0  \n",
       "1                      0  \n",
       "2                      0  \n",
       "3                      0  \n",
       "4                      0  \n",
       "...                  ...  \n",
       "10122                  1  \n",
       "10123                  1  \n",
       "10124                  1  \n",
       "10125                  1  \n",
       "10126                  1  \n",
       "\n",
       "[10127 rows x 7 columns]"
      ]
     },
     "execution_count": 20,
     "metadata": {},
     "output_type": "execute_result"
    }
   ],
   "source": [
    "dados = pd.merge(menores, maiores, how = 'outer')\n",
    "dados"
   ]
  },
  {
   "cell_type": "code",
   "execution_count": 21,
   "id": "ec34c835",
   "metadata": {},
   "outputs": [],
   "source": [
    "# transformar os dependentes em uma string se não o merge não consegue trabalhar\n",
    "dados['Dependentes'] = dados['Dependentes'].astype(str)"
   ]
  },
  {
   "cell_type": "markdown",
   "id": "01d27eb4",
   "metadata": {},
   "source": [
    "# Transformando os dados pelo get_dummies"
   ]
  },
  {
   "cell_type": "code",
   "execution_count": 22,
   "id": "67986fc2",
   "metadata": {},
   "outputs": [],
   "source": [
    "dados_dumie = pd.get_dummies(dados.drop(['Idade','limite_do_cartao2'], axis=1)) \n",
    "# no drop coloca a coluna que não deseja que seja modificada com get_dummies axis=' coluna'"
   ]
  },
  {
   "cell_type": "code",
   "execution_count": 23,
   "id": "03efb972",
   "metadata": {},
   "outputs": [
    {
     "data": {
      "text/html": [
       "<div>\n",
       "<style scoped>\n",
       "    .dataframe tbody tr th:only-of-type {\n",
       "        vertical-align: middle;\n",
       "    }\n",
       "\n",
       "    .dataframe tbody tr th {\n",
       "        vertical-align: top;\n",
       "    }\n",
       "\n",
       "    .dataframe thead th {\n",
       "        text-align: right;\n",
       "    }\n",
       "</style>\n",
       "<table border=\"1\" class=\"dataframe\">\n",
       "  <thead>\n",
       "    <tr style=\"text-align: right;\">\n",
       "      <th></th>\n",
       "      <th>Idade</th>\n",
       "      <th>Sexo</th>\n",
       "      <th>Dependentes</th>\n",
       "      <th>Nivel_educacional</th>\n",
       "      <th>Estado_civil</th>\n",
       "      <th>Renda</th>\n",
       "      <th>limite_do_cartao2</th>\n",
       "      <th>Sexo_F</th>\n",
       "      <th>Sexo_M</th>\n",
       "      <th>Dependentes_0</th>\n",
       "      <th>...</th>\n",
       "      <th>Estado_civil_Divorced</th>\n",
       "      <th>Estado_civil_Married</th>\n",
       "      <th>Estado_civil_Single</th>\n",
       "      <th>Estado_civil_Unknown</th>\n",
       "      <th>Renda_$120K +</th>\n",
       "      <th>Renda_$40K - $60K</th>\n",
       "      <th>Renda_$60K - $80K</th>\n",
       "      <th>Renda_$80K - $120K</th>\n",
       "      <th>Renda_Less than $40K</th>\n",
       "      <th>Renda_Unknown</th>\n",
       "    </tr>\n",
       "  </thead>\n",
       "  <tbody>\n",
       "    <tr>\n",
       "      <th>0</th>\n",
       "      <td>51</td>\n",
       "      <td>M</td>\n",
       "      <td>3</td>\n",
       "      <td>Graduate</td>\n",
       "      <td>Married</td>\n",
       "      <td>$80K - $120K</td>\n",
       "      <td>0</td>\n",
       "      <td>0</td>\n",
       "      <td>1</td>\n",
       "      <td>0</td>\n",
       "      <td>...</td>\n",
       "      <td>0</td>\n",
       "      <td>1</td>\n",
       "      <td>0</td>\n",
       "      <td>0</td>\n",
       "      <td>0</td>\n",
       "      <td>0</td>\n",
       "      <td>0</td>\n",
       "      <td>1</td>\n",
       "      <td>0</td>\n",
       "      <td>0</td>\n",
       "    </tr>\n",
       "    <tr>\n",
       "      <th>1</th>\n",
       "      <td>51</td>\n",
       "      <td>M</td>\n",
       "      <td>3</td>\n",
       "      <td>Graduate</td>\n",
       "      <td>Married</td>\n",
       "      <td>$80K - $120K</td>\n",
       "      <td>0</td>\n",
       "      <td>0</td>\n",
       "      <td>1</td>\n",
       "      <td>0</td>\n",
       "      <td>...</td>\n",
       "      <td>0</td>\n",
       "      <td>1</td>\n",
       "      <td>0</td>\n",
       "      <td>0</td>\n",
       "      <td>0</td>\n",
       "      <td>0</td>\n",
       "      <td>0</td>\n",
       "      <td>1</td>\n",
       "      <td>0</td>\n",
       "      <td>0</td>\n",
       "    </tr>\n",
       "    <tr>\n",
       "      <th>2</th>\n",
       "      <td>40</td>\n",
       "      <td>F</td>\n",
       "      <td>4</td>\n",
       "      <td>High School</td>\n",
       "      <td>Unknown</td>\n",
       "      <td>Less than $40K</td>\n",
       "      <td>0</td>\n",
       "      <td>1</td>\n",
       "      <td>0</td>\n",
       "      <td>0</td>\n",
       "      <td>...</td>\n",
       "      <td>0</td>\n",
       "      <td>0</td>\n",
       "      <td>0</td>\n",
       "      <td>1</td>\n",
       "      <td>0</td>\n",
       "      <td>0</td>\n",
       "      <td>0</td>\n",
       "      <td>0</td>\n",
       "      <td>1</td>\n",
       "      <td>0</td>\n",
       "    </tr>\n",
       "    <tr>\n",
       "      <th>3</th>\n",
       "      <td>44</td>\n",
       "      <td>M</td>\n",
       "      <td>2</td>\n",
       "      <td>Graduate</td>\n",
       "      <td>Married</td>\n",
       "      <td>$40K - $60K</td>\n",
       "      <td>0</td>\n",
       "      <td>0</td>\n",
       "      <td>1</td>\n",
       "      <td>0</td>\n",
       "      <td>...</td>\n",
       "      <td>0</td>\n",
       "      <td>1</td>\n",
       "      <td>0</td>\n",
       "      <td>0</td>\n",
       "      <td>0</td>\n",
       "      <td>1</td>\n",
       "      <td>0</td>\n",
       "      <td>0</td>\n",
       "      <td>0</td>\n",
       "      <td>0</td>\n",
       "    </tr>\n",
       "    <tr>\n",
       "      <th>4</th>\n",
       "      <td>44</td>\n",
       "      <td>M</td>\n",
       "      <td>2</td>\n",
       "      <td>Graduate</td>\n",
       "      <td>Married</td>\n",
       "      <td>$40K - $60K</td>\n",
       "      <td>0</td>\n",
       "      <td>0</td>\n",
       "      <td>1</td>\n",
       "      <td>0</td>\n",
       "      <td>...</td>\n",
       "      <td>0</td>\n",
       "      <td>1</td>\n",
       "      <td>0</td>\n",
       "      <td>0</td>\n",
       "      <td>0</td>\n",
       "      <td>1</td>\n",
       "      <td>0</td>\n",
       "      <td>0</td>\n",
       "      <td>0</td>\n",
       "      <td>0</td>\n",
       "    </tr>\n",
       "    <tr>\n",
       "      <th>...</th>\n",
       "      <td>...</td>\n",
       "      <td>...</td>\n",
       "      <td>...</td>\n",
       "      <td>...</td>\n",
       "      <td>...</td>\n",
       "      <td>...</td>\n",
       "      <td>...</td>\n",
       "      <td>...</td>\n",
       "      <td>...</td>\n",
       "      <td>...</td>\n",
       "      <td>...</td>\n",
       "      <td>...</td>\n",
       "      <td>...</td>\n",
       "      <td>...</td>\n",
       "      <td>...</td>\n",
       "      <td>...</td>\n",
       "      <td>...</td>\n",
       "      <td>...</td>\n",
       "      <td>...</td>\n",
       "      <td>...</td>\n",
       "      <td>...</td>\n",
       "    </tr>\n",
       "    <tr>\n",
       "      <th>10122</th>\n",
       "      <td>55</td>\n",
       "      <td>F</td>\n",
       "      <td>3</td>\n",
       "      <td>Uneducated</td>\n",
       "      <td>Single</td>\n",
       "      <td>Unknown</td>\n",
       "      <td>1</td>\n",
       "      <td>1</td>\n",
       "      <td>0</td>\n",
       "      <td>0</td>\n",
       "      <td>...</td>\n",
       "      <td>0</td>\n",
       "      <td>0</td>\n",
       "      <td>1</td>\n",
       "      <td>0</td>\n",
       "      <td>0</td>\n",
       "      <td>0</td>\n",
       "      <td>0</td>\n",
       "      <td>0</td>\n",
       "      <td>0</td>\n",
       "      <td>1</td>\n",
       "    </tr>\n",
       "    <tr>\n",
       "      <th>10123</th>\n",
       "      <td>54</td>\n",
       "      <td>M</td>\n",
       "      <td>1</td>\n",
       "      <td>High School</td>\n",
       "      <td>Single</td>\n",
       "      <td>$60K - $80K</td>\n",
       "      <td>1</td>\n",
       "      <td>0</td>\n",
       "      <td>1</td>\n",
       "      <td>0</td>\n",
       "      <td>...</td>\n",
       "      <td>0</td>\n",
       "      <td>0</td>\n",
       "      <td>1</td>\n",
       "      <td>0</td>\n",
       "      <td>0</td>\n",
       "      <td>0</td>\n",
       "      <td>1</td>\n",
       "      <td>0</td>\n",
       "      <td>0</td>\n",
       "      <td>0</td>\n",
       "    </tr>\n",
       "    <tr>\n",
       "      <th>10124</th>\n",
       "      <td>44</td>\n",
       "      <td>F</td>\n",
       "      <td>1</td>\n",
       "      <td>High School</td>\n",
       "      <td>Married</td>\n",
       "      <td>Less than $40K</td>\n",
       "      <td>1</td>\n",
       "      <td>1</td>\n",
       "      <td>0</td>\n",
       "      <td>0</td>\n",
       "      <td>...</td>\n",
       "      <td>0</td>\n",
       "      <td>1</td>\n",
       "      <td>0</td>\n",
       "      <td>0</td>\n",
       "      <td>0</td>\n",
       "      <td>0</td>\n",
       "      <td>0</td>\n",
       "      <td>0</td>\n",
       "      <td>1</td>\n",
       "      <td>0</td>\n",
       "    </tr>\n",
       "    <tr>\n",
       "      <th>10125</th>\n",
       "      <td>30</td>\n",
       "      <td>M</td>\n",
       "      <td>2</td>\n",
       "      <td>Graduate</td>\n",
       "      <td>Unknown</td>\n",
       "      <td>$40K - $60K</td>\n",
       "      <td>1</td>\n",
       "      <td>0</td>\n",
       "      <td>1</td>\n",
       "      <td>0</td>\n",
       "      <td>...</td>\n",
       "      <td>0</td>\n",
       "      <td>0</td>\n",
       "      <td>0</td>\n",
       "      <td>1</td>\n",
       "      <td>0</td>\n",
       "      <td>1</td>\n",
       "      <td>0</td>\n",
       "      <td>0</td>\n",
       "      <td>0</td>\n",
       "      <td>0</td>\n",
       "    </tr>\n",
       "    <tr>\n",
       "      <th>10126</th>\n",
       "      <td>43</td>\n",
       "      <td>F</td>\n",
       "      <td>2</td>\n",
       "      <td>Graduate</td>\n",
       "      <td>Married</td>\n",
       "      <td>Less than $40K</td>\n",
       "      <td>1</td>\n",
       "      <td>1</td>\n",
       "      <td>0</td>\n",
       "      <td>0</td>\n",
       "      <td>...</td>\n",
       "      <td>0</td>\n",
       "      <td>1</td>\n",
       "      <td>0</td>\n",
       "      <td>0</td>\n",
       "      <td>0</td>\n",
       "      <td>0</td>\n",
       "      <td>0</td>\n",
       "      <td>0</td>\n",
       "      <td>1</td>\n",
       "      <td>0</td>\n",
       "    </tr>\n",
       "  </tbody>\n",
       "</table>\n",
       "<p>10127 rows × 32 columns</p>\n",
       "</div>"
      ],
      "text/plain": [
       "       Idade Sexo Dependentes Nivel_educacional Estado_civil           Renda  \\\n",
       "0         51    M           3          Graduate      Married    $80K - $120K   \n",
       "1         51    M           3          Graduate      Married    $80K - $120K   \n",
       "2         40    F           4       High School      Unknown  Less than $40K   \n",
       "3         44    M           2          Graduate      Married     $40K - $60K   \n",
       "4         44    M           2          Graduate      Married     $40K - $60K   \n",
       "...      ...  ...         ...               ...          ...             ...   \n",
       "10122     55    F           3        Uneducated       Single         Unknown   \n",
       "10123     54    M           1       High School       Single     $60K - $80K   \n",
       "10124     44    F           1       High School      Married  Less than $40K   \n",
       "10125     30    M           2          Graduate      Unknown     $40K - $60K   \n",
       "10126     43    F           2          Graduate      Married  Less than $40K   \n",
       "\n",
       "       limite_do_cartao2  Sexo_F  Sexo_M  Dependentes_0  ...  \\\n",
       "0                      0       0       1              0  ...   \n",
       "1                      0       0       1              0  ...   \n",
       "2                      0       1       0              0  ...   \n",
       "3                      0       0       1              0  ...   \n",
       "4                      0       0       1              0  ...   \n",
       "...                  ...     ...     ...            ...  ...   \n",
       "10122                  1       1       0              0  ...   \n",
       "10123                  1       0       1              0  ...   \n",
       "10124                  1       1       0              0  ...   \n",
       "10125                  1       0       1              0  ...   \n",
       "10126                  1       1       0              0  ...   \n",
       "\n",
       "       Estado_civil_Divorced  Estado_civil_Married  Estado_civil_Single  \\\n",
       "0                          0                     1                    0   \n",
       "1                          0                     1                    0   \n",
       "2                          0                     0                    0   \n",
       "3                          0                     1                    0   \n",
       "4                          0                     1                    0   \n",
       "...                      ...                   ...                  ...   \n",
       "10122                      0                     0                    1   \n",
       "10123                      0                     0                    1   \n",
       "10124                      0                     1                    0   \n",
       "10125                      0                     0                    0   \n",
       "10126                      0                     1                    0   \n",
       "\n",
       "       Estado_civil_Unknown  Renda_$120K +  Renda_$40K - $60K  \\\n",
       "0                         0              0                  0   \n",
       "1                         0              0                  0   \n",
       "2                         1              0                  0   \n",
       "3                         0              0                  1   \n",
       "4                         0              0                  1   \n",
       "...                     ...            ...                ...   \n",
       "10122                     0              0                  0   \n",
       "10123                     0              0                  0   \n",
       "10124                     0              0                  0   \n",
       "10125                     1              0                  1   \n",
       "10126                     0              0                  0   \n",
       "\n",
       "       Renda_$60K - $80K  Renda_$80K - $120K  Renda_Less than $40K  \\\n",
       "0                      0                   1                     0   \n",
       "1                      0                   1                     0   \n",
       "2                      0                   0                     1   \n",
       "3                      0                   0                     0   \n",
       "4                      0                   0                     0   \n",
       "...                  ...                 ...                   ...   \n",
       "10122                  0                   0                     0   \n",
       "10123                  1                   0                     0   \n",
       "10124                  0                   0                     1   \n",
       "10125                  0                   0                     0   \n",
       "10126                  0                   0                     1   \n",
       "\n",
       "       Renda_Unknown  \n",
       "0                  0  \n",
       "1                  0  \n",
       "2                  0  \n",
       "3                  0  \n",
       "4                  0  \n",
       "...              ...  \n",
       "10122              1  \n",
       "10123              0  \n",
       "10124              0  \n",
       "10125              0  \n",
       "10126              0  \n",
       "\n",
       "[10127 rows x 32 columns]"
      ]
     },
     "execution_count": 23,
     "metadata": {},
     "output_type": "execute_result"
    }
   ],
   "source": [
    "# Junção dos dados transformados com o que já tínhamos\n",
    "dados_final = pd.concat([dados, dados_dumie], axis=1)\n",
    "dados_final"
   ]
  },
  {
   "cell_type": "code",
   "execution_count": 24,
   "id": "4733d98c",
   "metadata": {},
   "outputs": [
    {
     "data": {
      "text/html": [
       "<div>\n",
       "<style scoped>\n",
       "    .dataframe tbody tr th:only-of-type {\n",
       "        vertical-align: middle;\n",
       "    }\n",
       "\n",
       "    .dataframe tbody tr th {\n",
       "        vertical-align: top;\n",
       "    }\n",
       "\n",
       "    .dataframe thead th {\n",
       "        text-align: right;\n",
       "    }\n",
       "</style>\n",
       "<table border=\"1\" class=\"dataframe\">\n",
       "  <thead>\n",
       "    <tr style=\"text-align: right;\">\n",
       "      <th></th>\n",
       "      <th>Idade</th>\n",
       "      <th>Sexo</th>\n",
       "      <th>Dependentes</th>\n",
       "      <th>Nivel_educacional</th>\n",
       "      <th>Estado_civil</th>\n",
       "      <th>Renda</th>\n",
       "      <th>limite_do_cartao2</th>\n",
       "      <th>Sexo_F</th>\n",
       "      <th>Sexo_M</th>\n",
       "      <th>Dependentes_0</th>\n",
       "      <th>Dependentes_1</th>\n",
       "      <th>Dependentes_2</th>\n",
       "      <th>Dependentes_3</th>\n",
       "      <th>Dependentes_4</th>\n",
       "      <th>Dependentes_5</th>\n",
       "      <th>Nivel_educacional_College</th>\n",
       "      <th>Nivel_educacional_Doctorate</th>\n",
       "      <th>Nivel_educacional_Graduate</th>\n",
       "      <th>Nivel_educacional_High School</th>\n",
       "      <th>Nivel_educacional_Post-Graduate</th>\n",
       "      <th>Nivel_educacional_Uneducated</th>\n",
       "      <th>Nivel_educacional_Unknown</th>\n",
       "      <th>Estado_civil_Divorced</th>\n",
       "      <th>Estado_civil_Married</th>\n",
       "      <th>Estado_civil_Single</th>\n",
       "      <th>Estado_civil_Unknown</th>\n",
       "      <th>Renda_$120K +</th>\n",
       "      <th>Renda_$40K - $60K</th>\n",
       "      <th>Renda_$60K - $80K</th>\n",
       "      <th>Renda_$80K - $120K</th>\n",
       "      <th>Renda_Less than $40K</th>\n",
       "      <th>Renda_Unknown</th>\n",
       "    </tr>\n",
       "  </thead>\n",
       "  <tbody>\n",
       "    <tr>\n",
       "      <th>0</th>\n",
       "      <td>51</td>\n",
       "      <td>M</td>\n",
       "      <td>3</td>\n",
       "      <td>Graduate</td>\n",
       "      <td>Married</td>\n",
       "      <td>$80K - $120K</td>\n",
       "      <td>0</td>\n",
       "      <td>0</td>\n",
       "      <td>1</td>\n",
       "      <td>0</td>\n",
       "      <td>0</td>\n",
       "      <td>0</td>\n",
       "      <td>1</td>\n",
       "      <td>0</td>\n",
       "      <td>0</td>\n",
       "      <td>0</td>\n",
       "      <td>0</td>\n",
       "      <td>1</td>\n",
       "      <td>0</td>\n",
       "      <td>0</td>\n",
       "      <td>0</td>\n",
       "      <td>0</td>\n",
       "      <td>0</td>\n",
       "      <td>1</td>\n",
       "      <td>0</td>\n",
       "      <td>0</td>\n",
       "      <td>0</td>\n",
       "      <td>0</td>\n",
       "      <td>0</td>\n",
       "      <td>1</td>\n",
       "      <td>0</td>\n",
       "      <td>0</td>\n",
       "    </tr>\n",
       "    <tr>\n",
       "      <th>1</th>\n",
       "      <td>51</td>\n",
       "      <td>M</td>\n",
       "      <td>3</td>\n",
       "      <td>Graduate</td>\n",
       "      <td>Married</td>\n",
       "      <td>$80K - $120K</td>\n",
       "      <td>0</td>\n",
       "      <td>0</td>\n",
       "      <td>1</td>\n",
       "      <td>0</td>\n",
       "      <td>0</td>\n",
       "      <td>0</td>\n",
       "      <td>1</td>\n",
       "      <td>0</td>\n",
       "      <td>0</td>\n",
       "      <td>0</td>\n",
       "      <td>0</td>\n",
       "      <td>1</td>\n",
       "      <td>0</td>\n",
       "      <td>0</td>\n",
       "      <td>0</td>\n",
       "      <td>0</td>\n",
       "      <td>0</td>\n",
       "      <td>1</td>\n",
       "      <td>0</td>\n",
       "      <td>0</td>\n",
       "      <td>0</td>\n",
       "      <td>0</td>\n",
       "      <td>0</td>\n",
       "      <td>1</td>\n",
       "      <td>0</td>\n",
       "      <td>0</td>\n",
       "    </tr>\n",
       "    <tr>\n",
       "      <th>2</th>\n",
       "      <td>40</td>\n",
       "      <td>F</td>\n",
       "      <td>4</td>\n",
       "      <td>High School</td>\n",
       "      <td>Unknown</td>\n",
       "      <td>Less than $40K</td>\n",
       "      <td>0</td>\n",
       "      <td>1</td>\n",
       "      <td>0</td>\n",
       "      <td>0</td>\n",
       "      <td>0</td>\n",
       "      <td>0</td>\n",
       "      <td>0</td>\n",
       "      <td>1</td>\n",
       "      <td>0</td>\n",
       "      <td>0</td>\n",
       "      <td>0</td>\n",
       "      <td>0</td>\n",
       "      <td>1</td>\n",
       "      <td>0</td>\n",
       "      <td>0</td>\n",
       "      <td>0</td>\n",
       "      <td>0</td>\n",
       "      <td>0</td>\n",
       "      <td>0</td>\n",
       "      <td>1</td>\n",
       "      <td>0</td>\n",
       "      <td>0</td>\n",
       "      <td>0</td>\n",
       "      <td>0</td>\n",
       "      <td>1</td>\n",
       "      <td>0</td>\n",
       "    </tr>\n",
       "    <tr>\n",
       "      <th>3</th>\n",
       "      <td>44</td>\n",
       "      <td>M</td>\n",
       "      <td>2</td>\n",
       "      <td>Graduate</td>\n",
       "      <td>Married</td>\n",
       "      <td>$40K - $60K</td>\n",
       "      <td>0</td>\n",
       "      <td>0</td>\n",
       "      <td>1</td>\n",
       "      <td>0</td>\n",
       "      <td>0</td>\n",
       "      <td>1</td>\n",
       "      <td>0</td>\n",
       "      <td>0</td>\n",
       "      <td>0</td>\n",
       "      <td>0</td>\n",
       "      <td>0</td>\n",
       "      <td>1</td>\n",
       "      <td>0</td>\n",
       "      <td>0</td>\n",
       "      <td>0</td>\n",
       "      <td>0</td>\n",
       "      <td>0</td>\n",
       "      <td>1</td>\n",
       "      <td>0</td>\n",
       "      <td>0</td>\n",
       "      <td>0</td>\n",
       "      <td>1</td>\n",
       "      <td>0</td>\n",
       "      <td>0</td>\n",
       "      <td>0</td>\n",
       "      <td>0</td>\n",
       "    </tr>\n",
       "    <tr>\n",
       "      <th>4</th>\n",
       "      <td>44</td>\n",
       "      <td>M</td>\n",
       "      <td>2</td>\n",
       "      <td>Graduate</td>\n",
       "      <td>Married</td>\n",
       "      <td>$40K - $60K</td>\n",
       "      <td>0</td>\n",
       "      <td>0</td>\n",
       "      <td>1</td>\n",
       "      <td>0</td>\n",
       "      <td>0</td>\n",
       "      <td>1</td>\n",
       "      <td>0</td>\n",
       "      <td>0</td>\n",
       "      <td>0</td>\n",
       "      <td>0</td>\n",
       "      <td>0</td>\n",
       "      <td>1</td>\n",
       "      <td>0</td>\n",
       "      <td>0</td>\n",
       "      <td>0</td>\n",
       "      <td>0</td>\n",
       "      <td>0</td>\n",
       "      <td>1</td>\n",
       "      <td>0</td>\n",
       "      <td>0</td>\n",
       "      <td>0</td>\n",
       "      <td>1</td>\n",
       "      <td>0</td>\n",
       "      <td>0</td>\n",
       "      <td>0</td>\n",
       "      <td>0</td>\n",
       "    </tr>\n",
       "  </tbody>\n",
       "</table>\n",
       "</div>"
      ],
      "text/plain": [
       "   Idade Sexo Dependentes Nivel_educacional Estado_civil           Renda  \\\n",
       "0     51    M           3          Graduate      Married    $80K - $120K   \n",
       "1     51    M           3          Graduate      Married    $80K - $120K   \n",
       "2     40    F           4       High School      Unknown  Less than $40K   \n",
       "3     44    M           2          Graduate      Married     $40K - $60K   \n",
       "4     44    M           2          Graduate      Married     $40K - $60K   \n",
       "\n",
       "   limite_do_cartao2  Sexo_F  Sexo_M  Dependentes_0  Dependentes_1  \\\n",
       "0                  0       0       1              0              0   \n",
       "1                  0       0       1              0              0   \n",
       "2                  0       1       0              0              0   \n",
       "3                  0       0       1              0              0   \n",
       "4                  0       0       1              0              0   \n",
       "\n",
       "   Dependentes_2  Dependentes_3  Dependentes_4  Dependentes_5  \\\n",
       "0              0              1              0              0   \n",
       "1              0              1              0              0   \n",
       "2              0              0              1              0   \n",
       "3              1              0              0              0   \n",
       "4              1              0              0              0   \n",
       "\n",
       "   Nivel_educacional_College  Nivel_educacional_Doctorate  \\\n",
       "0                          0                            0   \n",
       "1                          0                            0   \n",
       "2                          0                            0   \n",
       "3                          0                            0   \n",
       "4                          0                            0   \n",
       "\n",
       "   Nivel_educacional_Graduate  Nivel_educacional_High School  \\\n",
       "0                           1                              0   \n",
       "1                           1                              0   \n",
       "2                           0                              1   \n",
       "3                           1                              0   \n",
       "4                           1                              0   \n",
       "\n",
       "   Nivel_educacional_Post-Graduate  Nivel_educacional_Uneducated  \\\n",
       "0                                0                             0   \n",
       "1                                0                             0   \n",
       "2                                0                             0   \n",
       "3                                0                             0   \n",
       "4                                0                             0   \n",
       "\n",
       "   Nivel_educacional_Unknown  Estado_civil_Divorced  Estado_civil_Married  \\\n",
       "0                          0                      0                     1   \n",
       "1                          0                      0                     1   \n",
       "2                          0                      0                     0   \n",
       "3                          0                      0                     1   \n",
       "4                          0                      0                     1   \n",
       "\n",
       "   Estado_civil_Single  Estado_civil_Unknown  Renda_$120K +  \\\n",
       "0                    0                     0              0   \n",
       "1                    0                     0              0   \n",
       "2                    0                     1              0   \n",
       "3                    0                     0              0   \n",
       "4                    0                     0              0   \n",
       "\n",
       "   Renda_$40K - $60K  Renda_$60K - $80K  Renda_$80K - $120K  \\\n",
       "0                  0                  0                   1   \n",
       "1                  0                  0                   1   \n",
       "2                  0                  0                   0   \n",
       "3                  1                  0                   0   \n",
       "4                  1                  0                   0   \n",
       "\n",
       "   Renda_Less than $40K  Renda_Unknown  \n",
       "0                     0              0  \n",
       "1                     0              0  \n",
       "2                     1              0  \n",
       "3                     0              0  \n",
       "4                     0              0  "
      ]
     },
     "execution_count": 24,
     "metadata": {},
     "output_type": "execute_result"
    }
   ],
   "source": [
    "pd.set_option('display.max_columns', 39)\n",
    "dados_final.head()"
   ]
  },
  {
   "cell_type": "code",
   "execution_count": 25,
   "id": "a2dc7531",
   "metadata": {},
   "outputs": [],
   "source": [
    "dados_final.drop(columns=['Sexo', 'Dependentes','Nivel_educacional','Estado_civil','Renda'], inplace=True)\n",
    "dados_final.head(2)\n",
    "dados_final.to_csv('prontos2.csv')"
   ]
  },
  {
   "cell_type": "code",
   "execution_count": 26,
   "id": "9299865a",
   "metadata": {},
   "outputs": [
    {
     "data": {
      "text/html": [
       "<div>\n",
       "<style scoped>\n",
       "    .dataframe tbody tr th:only-of-type {\n",
       "        vertical-align: middle;\n",
       "    }\n",
       "\n",
       "    .dataframe tbody tr th {\n",
       "        vertical-align: top;\n",
       "    }\n",
       "\n",
       "    .dataframe thead th {\n",
       "        text-align: right;\n",
       "    }\n",
       "</style>\n",
       "<table border=\"1\" class=\"dataframe\">\n",
       "  <thead>\n",
       "    <tr style=\"text-align: right;\">\n",
       "      <th></th>\n",
       "      <th>Idade</th>\n",
       "      <th>Alta_Renda</th>\n",
       "      <th>Sexo_F</th>\n",
       "      <th>Sexo_M</th>\n",
       "      <th>Dependentes_0</th>\n",
       "      <th>Dependentes_1</th>\n",
       "      <th>Dependentes_2</th>\n",
       "      <th>Dependentes_3</th>\n",
       "      <th>Dependentes_4</th>\n",
       "      <th>Dependentes_5</th>\n",
       "      <th>Nivel_educacional_College</th>\n",
       "      <th>Nivel_educacional_Doctorate</th>\n",
       "      <th>Nivel_educacional_Graduate</th>\n",
       "      <th>Nivel_educacional_High School</th>\n",
       "      <th>Nivel_educacional_Post-Graduate</th>\n",
       "      <th>Nivel_educacional_Uneducated</th>\n",
       "      <th>Nivel_educacional_Unknown</th>\n",
       "      <th>Estado_civil_Divorced</th>\n",
       "      <th>Estado_civil_Married</th>\n",
       "      <th>Estado_civil_Single</th>\n",
       "      <th>Estado_civil_Unknown</th>\n",
       "      <th>Renda_$120K +</th>\n",
       "      <th>Renda_$40K - $60K</th>\n",
       "      <th>Renda_$60K - $80K</th>\n",
       "      <th>Renda_$80K - $120K</th>\n",
       "      <th>Renda_Less than $40K</th>\n",
       "      <th>Renda_Unknown</th>\n",
       "    </tr>\n",
       "  </thead>\n",
       "  <tbody>\n",
       "    <tr>\n",
       "      <th>0</th>\n",
       "      <td>51</td>\n",
       "      <td>0</td>\n",
       "      <td>0</td>\n",
       "      <td>1</td>\n",
       "      <td>0</td>\n",
       "      <td>0</td>\n",
       "      <td>0</td>\n",
       "      <td>1</td>\n",
       "      <td>0</td>\n",
       "      <td>0</td>\n",
       "      <td>0</td>\n",
       "      <td>0</td>\n",
       "      <td>1</td>\n",
       "      <td>0</td>\n",
       "      <td>0</td>\n",
       "      <td>0</td>\n",
       "      <td>0</td>\n",
       "      <td>0</td>\n",
       "      <td>1</td>\n",
       "      <td>0</td>\n",
       "      <td>0</td>\n",
       "      <td>0</td>\n",
       "      <td>0</td>\n",
       "      <td>0</td>\n",
       "      <td>1</td>\n",
       "      <td>0</td>\n",
       "      <td>0</td>\n",
       "    </tr>\n",
       "    <tr>\n",
       "      <th>1</th>\n",
       "      <td>51</td>\n",
       "      <td>0</td>\n",
       "      <td>0</td>\n",
       "      <td>1</td>\n",
       "      <td>0</td>\n",
       "      <td>0</td>\n",
       "      <td>0</td>\n",
       "      <td>1</td>\n",
       "      <td>0</td>\n",
       "      <td>0</td>\n",
       "      <td>0</td>\n",
       "      <td>0</td>\n",
       "      <td>1</td>\n",
       "      <td>0</td>\n",
       "      <td>0</td>\n",
       "      <td>0</td>\n",
       "      <td>0</td>\n",
       "      <td>0</td>\n",
       "      <td>1</td>\n",
       "      <td>0</td>\n",
       "      <td>0</td>\n",
       "      <td>0</td>\n",
       "      <td>0</td>\n",
       "      <td>0</td>\n",
       "      <td>1</td>\n",
       "      <td>0</td>\n",
       "      <td>0</td>\n",
       "    </tr>\n",
       "  </tbody>\n",
       "</table>\n",
       "</div>"
      ],
      "text/plain": [
       "   Idade  Alta_Renda  Sexo_F  Sexo_M  Dependentes_0  Dependentes_1  \\\n",
       "0     51           0       0       1              0              0   \n",
       "1     51           0       0       1              0              0   \n",
       "\n",
       "   Dependentes_2  Dependentes_3  Dependentes_4  Dependentes_5  \\\n",
       "0              0              1              0              0   \n",
       "1              0              1              0              0   \n",
       "\n",
       "   Nivel_educacional_College  Nivel_educacional_Doctorate  \\\n",
       "0                          0                            0   \n",
       "1                          0                            0   \n",
       "\n",
       "   Nivel_educacional_Graduate  Nivel_educacional_High School  \\\n",
       "0                           1                              0   \n",
       "1                           1                              0   \n",
       "\n",
       "   Nivel_educacional_Post-Graduate  Nivel_educacional_Uneducated  \\\n",
       "0                                0                             0   \n",
       "1                                0                             0   \n",
       "\n",
       "   Nivel_educacional_Unknown  Estado_civil_Divorced  Estado_civil_Married  \\\n",
       "0                          0                      0                     1   \n",
       "1                          0                      0                     1   \n",
       "\n",
       "   Estado_civil_Single  Estado_civil_Unknown  Renda_$120K +  \\\n",
       "0                    0                     0              0   \n",
       "1                    0                     0              0   \n",
       "\n",
       "   Renda_$40K - $60K  Renda_$60K - $80K  Renda_$80K - $120K  \\\n",
       "0                  0                  0                   1   \n",
       "1                  0                  0                   1   \n",
       "\n",
       "   Renda_Less than $40K  Renda_Unknown  \n",
       "0                     0              0  \n",
       "1                     0              0  "
      ]
     },
     "execution_count": 26,
     "metadata": {},
     "output_type": "execute_result"
    }
   ],
   "source": [
    "dados_final = dados_final.rename(columns={'limite_do_cartao2':'Alta_Renda'})\n",
    "dados_final.head(2)"
   ]
  },
  {
   "cell_type": "code",
   "execution_count": 27,
   "id": "97abbb4e",
   "metadata": {},
   "outputs": [
    {
     "name": "stdout",
     "output_type": "stream",
     "text": [
      "<class 'pandas.core.frame.DataFrame'>\n",
      "Int64Index: 10127 entries, 0 to 10126\n",
      "Data columns (total 27 columns):\n",
      " #   Column                           Non-Null Count  Dtype\n",
      "---  ------                           --------------  -----\n",
      " 0   Idade                            10127 non-null  int64\n",
      " 1   Alta_Renda                       10127 non-null  int32\n",
      " 2   Sexo_F                           10127 non-null  uint8\n",
      " 3   Sexo_M                           10127 non-null  uint8\n",
      " 4   Dependentes_0                    10127 non-null  uint8\n",
      " 5   Dependentes_1                    10127 non-null  uint8\n",
      " 6   Dependentes_2                    10127 non-null  uint8\n",
      " 7   Dependentes_3                    10127 non-null  uint8\n",
      " 8   Dependentes_4                    10127 non-null  uint8\n",
      " 9   Dependentes_5                    10127 non-null  uint8\n",
      " 10  Nivel_educacional_College        10127 non-null  uint8\n",
      " 11  Nivel_educacional_Doctorate      10127 non-null  uint8\n",
      " 12  Nivel_educacional_Graduate       10127 non-null  uint8\n",
      " 13  Nivel_educacional_High School    10127 non-null  uint8\n",
      " 14  Nivel_educacional_Post-Graduate  10127 non-null  uint8\n",
      " 15  Nivel_educacional_Uneducated     10127 non-null  uint8\n",
      " 16  Nivel_educacional_Unknown        10127 non-null  uint8\n",
      " 17  Estado_civil_Divorced            10127 non-null  uint8\n",
      " 18  Estado_civil_Married             10127 non-null  uint8\n",
      " 19  Estado_civil_Single              10127 non-null  uint8\n",
      " 20  Estado_civil_Unknown             10127 non-null  uint8\n",
      " 21  Renda_$120K +                    10127 non-null  uint8\n",
      " 22  Renda_$40K - $60K                10127 non-null  uint8\n",
      " 23  Renda_$60K - $80K                10127 non-null  uint8\n",
      " 24  Renda_$80K - $120K               10127 non-null  uint8\n",
      " 25  Renda_Less than $40K             10127 non-null  uint8\n",
      " 26  Renda_Unknown                    10127 non-null  uint8\n",
      "dtypes: int32(1), int64(1), uint8(25)\n",
      "memory usage: 445.0 KB\n"
     ]
    }
   ],
   "source": [
    "dados_final.info()"
   ]
  },
  {
   "cell_type": "markdown",
   "id": "dff93fe9",
   "metadata": {},
   "source": [
    "# Objetivo: Tentar Prever o Alta e baixo limite"
   ]
  },
  {
   "cell_type": "code",
   "execution_count": 28,
   "id": "2f990c04",
   "metadata": {},
   "outputs": [],
   "source": [
    "X = dados_final.drop(['Alta_Renda'], axis=1)\n",
    "y = dados_final['Alta_Renda']"
   ]
  },
  {
   "cell_type": "code",
   "execution_count": 29,
   "id": "a085b433",
   "metadata": {},
   "outputs": [],
   "source": [
    "# biblioteca para padronizar os dados(deixando todos os valores na mesma escala)\n",
    "from sklearn.preprocessing import StandardScaler"
   ]
  },
  {
   "cell_type": "code",
   "execution_count": 30,
   "id": "f6c43997",
   "metadata": {},
   "outputs": [],
   "source": [
    "normalizar = StandardScaler()"
   ]
  },
  {
   "cell_type": "code",
   "execution_count": 31,
   "id": "eaa51015",
   "metadata": {},
   "outputs": [
    {
     "data": {
      "text/plain": [
       "array([[ 0.58305837, -1.05995565,  1.05995565, ...,  2.36588126,\n",
       "        -0.73643691, -0.35121215],\n",
       "       [ 0.58305837, -1.05995565,  1.05995565, ...,  2.36588126,\n",
       "        -0.73643691, -0.35121215],\n",
       "       [-0.78912553,  0.9434357 , -0.9434357 , ..., -0.42267548,\n",
       "         1.35788957, -0.35121215],\n",
       "       ...,\n",
       "       [-0.29014957,  0.9434357 , -0.9434357 , ..., -0.42267548,\n",
       "         1.35788957, -0.35121215],\n",
       "       [-2.03656544, -1.05995565,  1.05995565, ..., -0.42267548,\n",
       "        -0.73643691, -0.35121215],\n",
       "       [-0.41489356,  0.9434357 , -0.9434357 , ..., -0.42267548,\n",
       "         1.35788957, -0.35121215]])"
      ]
     },
     "execution_count": 31,
     "metadata": {},
     "output_type": "execute_result"
    }
   ],
   "source": [
    "x_normalizado = normalizar.fit_transform(X) # Transformando os dados quando não são totalmente binários\n",
    "x_normalizado"
   ]
  },
  {
   "cell_type": "code",
   "execution_count": 32,
   "id": "2489bd36",
   "metadata": {},
   "outputs": [
    {
     "data": {
      "text/html": [
       "<div>\n",
       "<style scoped>\n",
       "    .dataframe tbody tr th:only-of-type {\n",
       "        vertical-align: middle;\n",
       "    }\n",
       "\n",
       "    .dataframe tbody tr th {\n",
       "        vertical-align: top;\n",
       "    }\n",
       "\n",
       "    .dataframe thead th {\n",
       "        text-align: right;\n",
       "    }\n",
       "</style>\n",
       "<table border=\"1\" class=\"dataframe\">\n",
       "  <thead>\n",
       "    <tr style=\"text-align: right;\">\n",
       "      <th></th>\n",
       "      <th>Idade</th>\n",
       "      <th>Alta_Renda</th>\n",
       "      <th>Sexo_F</th>\n",
       "      <th>Sexo_M</th>\n",
       "      <th>Dependentes_0</th>\n",
       "      <th>Dependentes_1</th>\n",
       "      <th>Dependentes_2</th>\n",
       "      <th>Dependentes_3</th>\n",
       "      <th>Dependentes_4</th>\n",
       "      <th>Dependentes_5</th>\n",
       "      <th>Nivel_educacional_College</th>\n",
       "      <th>Nivel_educacional_Doctorate</th>\n",
       "      <th>Nivel_educacional_Graduate</th>\n",
       "      <th>Nivel_educacional_High School</th>\n",
       "      <th>Nivel_educacional_Post-Graduate</th>\n",
       "      <th>Nivel_educacional_Uneducated</th>\n",
       "      <th>Nivel_educacional_Unknown</th>\n",
       "      <th>Estado_civil_Divorced</th>\n",
       "      <th>Estado_civil_Married</th>\n",
       "      <th>Estado_civil_Single</th>\n",
       "      <th>Estado_civil_Unknown</th>\n",
       "      <th>Renda_$120K +</th>\n",
       "      <th>Renda_$40K - $60K</th>\n",
       "      <th>Renda_$60K - $80K</th>\n",
       "      <th>Renda_$80K - $120K</th>\n",
       "      <th>Renda_Less than $40K</th>\n",
       "      <th>Renda_Unknown</th>\n",
       "    </tr>\n",
       "  </thead>\n",
       "  <tbody>\n",
       "    <tr>\n",
       "      <th>0</th>\n",
       "      <td>51</td>\n",
       "      <td>0</td>\n",
       "      <td>0</td>\n",
       "      <td>1</td>\n",
       "      <td>0</td>\n",
       "      <td>0</td>\n",
       "      <td>0</td>\n",
       "      <td>1</td>\n",
       "      <td>0</td>\n",
       "      <td>0</td>\n",
       "      <td>0</td>\n",
       "      <td>0</td>\n",
       "      <td>1</td>\n",
       "      <td>0</td>\n",
       "      <td>0</td>\n",
       "      <td>0</td>\n",
       "      <td>0</td>\n",
       "      <td>0</td>\n",
       "      <td>1</td>\n",
       "      <td>0</td>\n",
       "      <td>0</td>\n",
       "      <td>0</td>\n",
       "      <td>0</td>\n",
       "      <td>0</td>\n",
       "      <td>1</td>\n",
       "      <td>0</td>\n",
       "      <td>0</td>\n",
       "    </tr>\n",
       "  </tbody>\n",
       "</table>\n",
       "</div>"
      ],
      "text/plain": [
       "   Idade  Alta_Renda  Sexo_F  Sexo_M  Dependentes_0  Dependentes_1  \\\n",
       "0     51           0       0       1              0              0   \n",
       "\n",
       "   Dependentes_2  Dependentes_3  Dependentes_4  Dependentes_5  \\\n",
       "0              0              1              0              0   \n",
       "\n",
       "   Nivel_educacional_College  Nivel_educacional_Doctorate  \\\n",
       "0                          0                            0   \n",
       "\n",
       "   Nivel_educacional_Graduate  Nivel_educacional_High School  \\\n",
       "0                           1                              0   \n",
       "\n",
       "   Nivel_educacional_Post-Graduate  Nivel_educacional_Uneducated  \\\n",
       "0                                0                             0   \n",
       "\n",
       "   Nivel_educacional_Unknown  Estado_civil_Divorced  Estado_civil_Married  \\\n",
       "0                          0                      0                     1   \n",
       "\n",
       "   Estado_civil_Single  Estado_civil_Unknown  Renda_$120K +  \\\n",
       "0                    0                     0              0   \n",
       "\n",
       "   Renda_$40K - $60K  Renda_$60K - $80K  Renda_$80K - $120K  \\\n",
       "0                  0                  0                   1   \n",
       "\n",
       "   Renda_Less than $40K  Renda_Unknown  \n",
       "0                     0              0  "
      ]
     },
     "execution_count": 32,
     "metadata": {},
     "output_type": "execute_result"
    }
   ],
   "source": [
    "dados_final.head(1)"
   ]
  },
  {
   "cell_type": "code",
   "execution_count": 33,
   "id": "30c39645",
   "metadata": {},
   "outputs": [],
   "source": [
    "# Exemplo para teste\n",
    "XTales = [[35,0,1,1,0,0,0,0,0,0,0,0,0,0,1,0,0,0,0,1,0,0,0,0,1,0]]"
   ]
  },
  {
   "cell_type": "code",
   "execution_count": 34,
   "id": "71ffca64",
   "metadata": {},
   "outputs": [],
   "source": [
    "# transformando em um conjunto de linhas e colunas\n",
    "XTales_normalizado = normalizar.transform(pd.DataFrame(XTales, columns = X.columns))"
   ]
  },
  {
   "cell_type": "markdown",
   "id": "971184fc",
   "metadata": {},
   "source": [
    "# Trabalhando com a distância euclideana "
   ]
  },
  {
   "cell_type": "code",
   "execution_count": 35,
   "id": "926c226b",
   "metadata": {},
   "outputs": [],
   "source": [
    "import numpy as np"
   ]
  },
  {
   "cell_type": "code",
   "execution_count": 36,
   "id": "774b5f93",
   "metadata": {},
   "outputs": [],
   "source": [
    "a = XTales_normalizado\n",
    "b = x_normalizado[0]"
   ]
  },
  {
   "cell_type": "code",
   "execution_count": 37,
   "id": "67ed39ea",
   "metadata": {},
   "outputs": [
    {
     "data": {
      "text/plain": [
       "array([[-1.99590385,  0.        ,  0.        ,  3.50719966,  0.        ,\n",
       "         0.        , -2.25305282,  0.        ,  0.        ,  0.        ,\n",
       "         0.        , -2.16435971,  0.        ,  0.        ,  2.82532527,\n",
       "         0.        ,  0.        , -2.0055518 ,  0.        ,  3.82106818,\n",
       "         0.        ,  0.        ,  0.        , -2.78855674,  2.09432648,\n",
       "         0.        ]])"
      ]
     },
     "execution_count": 37,
     "metadata": {},
     "output_type": "execute_result"
    }
   ],
   "source": [
    "a - b # A distancia do tales com primeiro valor do datframe"
   ]
  },
  {
   "cell_type": "code",
   "execution_count": 38,
   "id": "8dd92762",
   "metadata": {},
   "outputs": [
    {
     "data": {
      "text/plain": [
       "64.81229668432975"
      ]
     },
     "execution_count": 38,
     "metadata": {},
     "output_type": "execute_result"
    }
   ],
   "source": [
    "# realizando a exponenciação e somando\n",
    "np.sum(np.square(a-b))"
   ]
  },
  {
   "cell_type": "code",
   "execution_count": 39,
   "id": "5dd43e77",
   "metadata": {},
   "outputs": [
    {
     "data": {
      "text/plain": [
       "8.050608466714163"
      ]
     },
     "execution_count": 39,
     "metadata": {},
     "output_type": "execute_result"
    }
   ],
   "source": [
    "# tiramos a raiz e temos a nossa distância, a distância do tales com o primeiro dado\n",
    "np.sqrt(np.sum(np.square(a-b)))"
   ]
  },
  {
   "cell_type": "markdown",
   "id": "7884f95f",
   "metadata": {},
   "source": [
    "# Implementando o modelo "
   ]
  },
  {
   "cell_type": "code",
   "execution_count": 40,
   "id": "aa47e23d",
   "metadata": {},
   "outputs": [],
   "source": [
    "# Biblioteca para divisão dos dados \n",
    "from sklearn.model_selection import train_test_split\n",
    "\n",
    "X_train, X_test, y_train, y_test = train_test_split(x_normalizado, y, test_size=0.3, random_state=99, stratify=y)"
   ]
  },
  {
   "cell_type": "markdown",
   "id": "eef0fee5",
   "metadata": {},
   "source": [
    "# Classificador KNN"
   ]
  },
  {
   "cell_type": "code",
   "execution_count": 41,
   "id": "f6948d5c",
   "metadata": {},
   "outputs": [],
   "source": [
    "# Biblioteca para criar o modelo de machine learning\n",
    "from sklearn.neighbors import KNeighborsClassifier"
   ]
  },
  {
   "cell_type": "code",
   "execution_count": 42,
   "id": "b54a6572",
   "metadata": {},
   "outputs": [],
   "source": [
    "# Instanciando o modelo (criamos o modelos ) - por padrão são 5 vizinhos k\n",
    "knn = KNeighborsClassifier(metric='euclidean')# distância euclideana"
   ]
  },
  {
   "cell_type": "code",
   "execution_count": 43,
   "id": "428be545",
   "metadata": {},
   "outputs": [
    {
     "data": {
      "text/plain": [
       "KNeighborsClassifier(metric='euclidean')"
      ]
     },
     "execution_count": 43,
     "metadata": {},
     "output_type": "execute_result"
    }
   ],
   "source": [
    "# treinando o modelo com os dados de treino\n",
    "knn.fit(X_train, y_train)"
   ]
  },
  {
   "cell_type": "code",
   "execution_count": 44,
   "id": "76540dc6",
   "metadata": {},
   "outputs": [
    {
     "name": "stderr",
     "output_type": "stream",
     "text": [
      "C:\\Users\\otaci\\anaconda3\\lib\\site-packages\\sklearn\\neighbors\\_classification.py:228: FutureWarning: Unlike other reduction functions (e.g. `skew`, `kurtosis`), the default behavior of `mode` typically preserves the axis it acts along. In SciPy 1.11.0, this behavior will change: the default value of `keepdims` will become False, the `axis` over which the statistic is taken will be eliminated, and the value None will no longer be accepted. Set `keepdims` to True or False to avoid this warning.\n",
      "  mode, _ = stats.mode(_y[neigh_ind, k], axis=1)\n"
     ]
    },
    {
     "data": {
      "text/plain": [
       "array([1, 1, 0, ..., 1, 1, 0])"
      ]
     },
     "execution_count": 44,
     "metadata": {},
     "output_type": "execute_result"
    }
   ],
   "source": [
    "# testanto o modelo com os dados de teste \n",
    "predito_knn = knn.predict(X_test)\n",
    "predito_knn"
   ]
  },
  {
   "cell_type": "markdown",
   "id": "79cdabc0",
   "metadata": {},
   "source": [
    "# Método Probabilísitco \n",
    "## Modelo Bernoulli Naive Bayes"
   ]
  },
  {
   "cell_type": "code",
   "execution_count": 45,
   "id": "558e5768",
   "metadata": {},
   "outputs": [
    {
     "data": {
      "text/plain": [
       "-0.3333881894734782"
      ]
     },
     "execution_count": 45,
     "metadata": {},
     "output_type": "execute_result"
    }
   ],
   "source": [
    "# utilizar mediana, pq é o valor central dos nossos dados ordenados\n",
    "np.median(X_train)"
   ]
  },
  {
   "cell_type": "code",
   "execution_count": 46,
   "id": "42d3547c",
   "metadata": {},
   "outputs": [],
   "source": [
    "# Biblioteca para criar o modelo de machine learning\n",
    "from sklearn.naive_bayes import BernoulliNB"
   ]
  },
  {
   "cell_type": "code",
   "execution_count": 47,
   "id": "11e6ac8b",
   "metadata": {},
   "outputs": [],
   "source": [
    "# criando o modelo \n",
    "bnb = BernoulliNB(binarize=np.median(X_train))\n",
    "# o binarize define o limite para transformar o valor em binário ou não\n",
    "# define que acima desse valor transforma em 1 e abaixo em 0 "
   ]
  },
  {
   "cell_type": "code",
   "execution_count": 48,
   "id": "dcf45f8e",
   "metadata": {},
   "outputs": [
    {
     "data": {
      "text/plain": [
       "BernoulliNB(binarize=-0.3333881894734782)"
      ]
     },
     "execution_count": 48,
     "metadata": {},
     "output_type": "execute_result"
    }
   ],
   "source": [
    "bnb.fit(X_train, y_train)"
   ]
  },
  {
   "cell_type": "code",
   "execution_count": 49,
   "id": "75bdd20f",
   "metadata": {},
   "outputs": [],
   "source": [
    "previsao_Bnb = bnb.predict(X_test)"
   ]
  },
  {
   "cell_type": "code",
   "execution_count": 50,
   "id": "ebfaf1ea",
   "metadata": {},
   "outputs": [
    {
     "data": {
      "text/plain": [
       "array([0, 1, 0, ..., 0, 1, 0])"
      ]
     },
     "execution_count": 50,
     "metadata": {},
     "output_type": "execute_result"
    }
   ],
   "source": [
    "previsao_Bnb"
   ]
  },
  {
   "cell_type": "markdown",
   "id": "7a1db336",
   "metadata": {},
   "source": [
    "# Árvorde de decisão"
   ]
  },
  {
   "cell_type": "code",
   "execution_count": 51,
   "id": "f1ec8d95",
   "metadata": {},
   "outputs": [],
   "source": [
    "from sklearn.tree import DecisionTreeClassifier"
   ]
  },
  {
   "cell_type": "code",
   "execution_count": 52,
   "id": "26d264e6",
   "metadata": {},
   "outputs": [],
   "source": [
    "modelo = DecisionTreeClassifier(criterion='entropy', random_state=42, max_depth=3) # maximo de 3 ligações"
   ]
  },
  {
   "cell_type": "code",
   "execution_count": 53,
   "id": "3b0ecf09",
   "metadata": {},
   "outputs": [
    {
     "data": {
      "text/plain": [
       "DecisionTreeClassifier(criterion='entropy', max_depth=3, random_state=42)"
      ]
     },
     "execution_count": 53,
     "metadata": {},
     "output_type": "execute_result"
    }
   ],
   "source": [
    "modelo.fit(X_train, y_train)"
   ]
  },
  {
   "cell_type": "code",
   "execution_count": 54,
   "id": "6c24cd44",
   "metadata": {},
   "outputs": [
    {
     "data": {
      "text/plain": [
       "array([0.01121213, 0.03802231, 0.        , 0.        , 0.        ,\n",
       "       0.        , 0.        , 0.        , 0.        , 0.        ,\n",
       "       0.        , 0.        , 0.        , 0.        , 0.        ,\n",
       "       0.        , 0.        , 0.        , 0.        , 0.        ,\n",
       "       0.        , 0.24146698, 0.        , 0.        , 0.67371455,\n",
       "       0.03558404])"
      ]
     },
     "execution_count": 54,
     "metadata": {},
     "output_type": "execute_result"
    }
   ],
   "source": [
    "# verificando a importância de cada atributo\n",
    "modelo.feature_importances_"
   ]
  },
  {
   "cell_type": "code",
   "execution_count": 55,
   "id": "fc6e1fe8",
   "metadata": {},
   "outputs": [],
   "source": [
    "previsao_arvoredecisao = modelo.predict(X_test)"
   ]
  },
  {
   "cell_type": "code",
   "execution_count": 56,
   "id": "a3049cbc",
   "metadata": {},
   "outputs": [
    {
     "data": {
      "text/plain": [
       "array([1, 1, 0, ..., 1, 1, 0])"
      ]
     },
     "execution_count": 56,
     "metadata": {},
     "output_type": "execute_result"
    }
   ],
   "source": [
    "previsao_arvoredecisao"
   ]
  },
  {
   "cell_type": "markdown",
   "id": "a53f5a53",
   "metadata": {},
   "source": [
    "# Validação dos Modelos"
   ]
  },
  {
   "cell_type": "code",
   "execution_count": 57,
   "id": "d1cbbe55",
   "metadata": {},
   "outputs": [],
   "source": [
    "from sklearn.metrics import confusion_matrix"
   ]
  },
  {
   "cell_type": "code",
   "execution_count": 58,
   "id": "5d1b0b16",
   "metadata": {},
   "outputs": [
    {
     "name": "stdout",
     "output_type": "stream",
     "text": [
      "[[1041  479]\n",
      " [ 494 1025]]\n"
     ]
    }
   ],
   "source": [
    "print(confusion_matrix(y_test, predito_knn))"
   ]
  },
  {
   "cell_type": "code",
   "execution_count": 59,
   "id": "c2597c58",
   "metadata": {},
   "outputs": [
    {
     "name": "stdout",
     "output_type": "stream",
     "text": [
      "[[1085  435]\n",
      " [ 514 1005]]\n"
     ]
    }
   ],
   "source": [
    "print(confusion_matrix(y_test, previsao_Bnb))"
   ]
  },
  {
   "cell_type": "code",
   "execution_count": 60,
   "id": "60d4d2a9",
   "metadata": {},
   "outputs": [
    {
     "name": "stdout",
     "output_type": "stream",
     "text": [
      "[[1017  503]\n",
      " [ 360 1159]]\n"
     ]
    }
   ],
   "source": [
    "print(confusion_matrix(y_test, previsao_arvoredecisao))"
   ]
  },
  {
   "cell_type": "markdown",
   "id": "b42221e8",
   "metadata": {},
   "source": [
    "# Acurácia "
   ]
  },
  {
   "cell_type": "code",
   "execution_count": 61,
   "id": "796838bf",
   "metadata": {},
   "outputs": [],
   "source": [
    "from sklearn.metrics import accuracy_score\n",
    "# mostra a percentagem de acerto "
   ]
  },
  {
   "cell_type": "code",
   "execution_count": 62,
   "id": "dbcf448d",
   "metadata": {},
   "outputs": [
    {
     "name": "stdout",
     "output_type": "stream",
     "text": [
      "O modelo KNN possui 67.98 % de acerto\n"
     ]
    }
   ],
   "source": [
    "# modelo knn\n",
    "print('O modelo KNN possui {:.2f} % de acerto'.format(accuracy_score(y_test, predito_knn)*100))"
   ]
  },
  {
   "cell_type": "code",
   "execution_count": 63,
   "id": "d2118e8a",
   "metadata": {},
   "outputs": [
    {
     "name": "stdout",
     "output_type": "stream",
     "text": [
      "O modelo BNb possui 68.77 % de acerto\n"
     ]
    }
   ],
   "source": [
    "# modelo Bernoulli de Naives bayes\n",
    "print('O modelo BNb possui {:.2f} % de acerto'.format(accuracy_score(y_test, previsao_Bnb)*100))"
   ]
  },
  {
   "cell_type": "code",
   "execution_count": 64,
   "id": "9f2129ad",
   "metadata": {},
   "outputs": [
    {
     "name": "stdout",
     "output_type": "stream",
     "text": [
      "O modelo tree decision possui 71.60 % de acerto\n"
     ]
    }
   ],
   "source": [
    "# modelo árvore de decisão\n",
    "print('O modelo tree decision possui {:.2f} % de acerto'.format(accuracy_score(y_test, previsao_arvoredecisao)*100))"
   ]
  },
  {
   "cell_type": "markdown",
   "id": "7624017e",
   "metadata": {},
   "source": [
    "# Precisão"
   ]
  },
  {
   "cell_type": "code",
   "execution_count": 65,
   "id": "295fccf6",
   "metadata": {},
   "outputs": [],
   "source": [
    "from sklearn.metrics import precision_score"
   ]
  },
  {
   "cell_type": "code",
   "execution_count": 66,
   "id": "4a150e18",
   "metadata": {},
   "outputs": [
    {
     "name": "stdout",
     "output_type": "stream",
     "text": [
      "O modelo KNN possui 68.15 % de precisão.\n"
     ]
    }
   ],
   "source": [
    "# modelo knn\n",
    "print('O modelo KNN possui {:.2f} % de precisão.'.format(precision_score(y_test, predito_knn)*100))"
   ]
  },
  {
   "cell_type": "code",
   "execution_count": 67,
   "id": "65190075",
   "metadata": {},
   "outputs": [
    {
     "name": "stdout",
     "output_type": "stream",
     "text": [
      "O modelo BNb possui 69.79 % de precisão\n"
     ]
    }
   ],
   "source": [
    "# modelo Bernoulli de Naives bayes\n",
    "print('O modelo BNb possui {:.2f} % de precisão'.format(precision_score(y_test, previsao_Bnb)*100))"
   ]
  },
  {
   "cell_type": "code",
   "execution_count": 68,
   "id": "59594c59",
   "metadata": {},
   "outputs": [
    {
     "name": "stdout",
     "output_type": "stream",
     "text": [
      "O modelo tree decision possui 69.74 % de precisão\n"
     ]
    }
   ],
   "source": [
    "# modelo árvore de decisão\n",
    "print('O modelo tree decision possui {:.2f} % de precisão'.format(precision_score(y_test, previsao_arvoredecisao)*100))"
   ]
  },
  {
   "cell_type": "markdown",
   "id": "68a8e761",
   "metadata": {},
   "source": [
    "# Recall "
   ]
  },
  {
   "cell_type": "code",
   "execution_count": 69,
   "id": "f287e19b",
   "metadata": {},
   "outputs": [],
   "source": [
    "# recall mede o quão bom nosso modelo em classificar os resultados realmente em verdadeiros positivos(sensibilidade)\n",
    "from sklearn.metrics import recall_score"
   ]
  },
  {
   "cell_type": "code",
   "execution_count": 70,
   "id": "3608a5ab",
   "metadata": {},
   "outputs": [
    {
     "name": "stdout",
     "output_type": "stream",
     "text": [
      "O modelo KNN possui 67.48 % de recall.\n"
     ]
    }
   ],
   "source": [
    "# modelo knn\n",
    "print('O modelo KNN possui {:.2f} % de recall.'.format(recall_score(y_test, predito_knn)*100))"
   ]
  },
  {
   "cell_type": "code",
   "execution_count": 71,
   "id": "c5c90500",
   "metadata": {},
   "outputs": [
    {
     "name": "stdout",
     "output_type": "stream",
     "text": [
      "O modelo BNb possui 66.16 % de recall\n"
     ]
    }
   ],
   "source": [
    "# modelo Bernoulli de Naives bayes\n",
    "print('O modelo BNb possui {:.2f} % de recall'.format(recall_score(y_test, previsao_Bnb)*100))"
   ]
  },
  {
   "cell_type": "code",
   "execution_count": 72,
   "id": "00521064",
   "metadata": {},
   "outputs": [
    {
     "name": "stdout",
     "output_type": "stream",
     "text": [
      "O modelo tree decision possui 76.30 % de recall\n"
     ]
    }
   ],
   "source": [
    "# modelo árvore de decisão\n",
    "print('O modelo tree decision possui {:.2f} % de recall'.format(recall_score(y_test, previsao_arvoredecisao)*100))"
   ]
  },
  {
   "cell_type": "markdown",
   "id": "b37dac35",
   "metadata": {},
   "source": [
    "# Escolhendo o melhor modelo de acordo com os dados e a análise"
   ]
  },
  {
   "cell_type": "code",
   "execution_count": 73,
   "id": "9dbbf858",
   "metadata": {},
   "outputs": [
    {
     "name": "stdout",
     "output_type": "stream",
     "text": [
      "O modelo tree decision possui 71.60 % de acerto\n",
      "O modelo tree decision possui 69.74 % de precisão\n",
      "O modelo tree decision possui 76.30 % de recall\n"
     ]
    }
   ],
   "source": [
    "# O melhor modelo de acordo com a análise feita e os dados disponíveis é a árvore de decisão:\n",
    "\n",
    "print('O modelo tree decision possui {:.2f} % de acerto'.format(accuracy_score(y_test, previsao_arvoredecisao)*100))\n",
    "print('O modelo tree decision possui {:.2f} % de precisão'.format(precision_score(y_test, previsao_arvoredecisao)*100))\n",
    "print('O modelo tree decision possui {:.2f} % de recall'.format(recall_score(y_test, previsao_arvoredecisao)*100))"
   ]
  },
  {
   "cell_type": "code",
   "execution_count": 74,
   "id": "f5f82bf2",
   "metadata": {},
   "outputs": [
    {
     "data": {
      "text/html": [
       "<div>\n",
       "<style scoped>\n",
       "    .dataframe tbody tr th:only-of-type {\n",
       "        vertical-align: middle;\n",
       "    }\n",
       "\n",
       "    .dataframe tbody tr th {\n",
       "        vertical-align: top;\n",
       "    }\n",
       "\n",
       "    .dataframe thead th {\n",
       "        text-align: right;\n",
       "    }\n",
       "</style>\n",
       "<table border=\"1\" class=\"dataframe\">\n",
       "  <thead>\n",
       "    <tr style=\"text-align: right;\">\n",
       "      <th></th>\n",
       "      <th>Modelo</th>\n",
       "      <th>Acuracia</th>\n",
       "      <th>Precisao</th>\n",
       "      <th>Recall</th>\n",
       "    </tr>\n",
       "  </thead>\n",
       "  <tbody>\n",
       "    <tr>\n",
       "      <th>0</th>\n",
       "      <td>KNN</td>\n",
       "      <td>67.98</td>\n",
       "      <td>68.15</td>\n",
       "      <td>67.48</td>\n",
       "    </tr>\n",
       "    <tr>\n",
       "      <th>1</th>\n",
       "      <td>BNB</td>\n",
       "      <td>68.77</td>\n",
       "      <td>69.79</td>\n",
       "      <td>66.16</td>\n",
       "    </tr>\n",
       "    <tr>\n",
       "      <th>2</th>\n",
       "      <td>Tree</td>\n",
       "      <td>71.60</td>\n",
       "      <td>69.74</td>\n",
       "      <td>76.30</td>\n",
       "    </tr>\n",
       "  </tbody>\n",
       "</table>\n",
       "</div>"
      ],
      "text/plain": [
       "  Modelo  Acuracia  Precisao  Recall\n",
       "0    KNN     67.98     68.15   67.48\n",
       "1    BNB     68.77     69.79   66.16\n",
       "2   Tree     71.60     69.74   76.30"
      ]
     },
     "execution_count": 74,
     "metadata": {},
     "output_type": "execute_result"
    }
   ],
   "source": [
    "modelo = [['KNN',67.98,68.15,67.48],\n",
    "            ['BNB',68.77,69.79,66.16],\n",
    "            ['Tree',71.60,69.74,76.30]]\n",
    "\n",
    "df = pd.DataFrame(modelo, columns=['Modelo', 'Acuracia', 'Precisao', 'Recall'])\n",
    "\n",
    "df"
   ]
  },
  {
   "cell_type": "code",
   "execution_count": 75,
   "id": "3baf56ee",
   "metadata": {},
   "outputs": [
    {
     "data": {
      "image/png": "[encoded data removed]",
      "text/plain": [
       "<Figure size 640x480 with 1 Axes>"
      ]
     },
     "metadata": {},
     "output_type": "display_data"
    }
   ],
   "source": [
    "import matplotlib.pyplot as plt\n",
    "fig, ax = plt.subplots()\n",
    "ax.bar(df['Modelo'], df['Acuracia'], width=0.5, edgecolor=\"white\", linewidth=0.7)\n",
    "plt.show()"
   ]
  },
  {
   "cell_type": "code",
   "execution_count": 76,
   "id": "b8587bff",
   "metadata": {},
   "outputs": [
    {
     "data": {
      "image/png": "[encoded data removed]",
      "text/plain": [
       "<Figure size 640x480 with 1 Axes>"
      ]
     },
     "metadata": {},
     "output_type": "display_data"
    }
   ],
   "source": [
    "fig, ax = plt.subplots()\n",
    "ax.bar(df['Modelo'], df['Precisao'], width=0.5, edgecolor=\"white\", linewidth=0.5, color='c' )\n",
    "plt.show()"
   ]
  },
  {
   "cell_type": "code",
   "execution_count": 77,
   "id": "7b3ab7d5",
   "metadata": {},
   "outputs": [
    {
     "data": {
      "image/png": "[encoded data removed]",
      "text/plain": [
       "<Figure size 640x480 with 1 Axes>"
      ]
     },
     "metadata": {},
     "output_type": "display_data"
    }
   ],
   "source": [
    "fig, ax = plt.subplots()\n",
    "ax.bar(df['Modelo'], df['Precisao'], width=0.5, edgecolor=\"white\", linewidth=0.5, color='g' )\n",
    "plt.show()"
   ]
  },
  {
   "cell_type": "markdown",
   "id": "4677d705",
   "metadata": {},
   "source": [
    "# Parte II - Tentativa de Melhorar o modelo "
   ]
  },
  {
   "cell_type": "code",
   "execution_count": 78,
   "id": "7ff5ff0e",
   "metadata": {},
   "outputs": [],
   "source": [
    "### Adicionando o modelo Random Forest Classifier "
   ]
  },
  {
   "cell_type": "code",
   "execution_count": 79,
   "id": "20c50f2b",
   "metadata": {},
   "outputs": [
    {
     "name": "stdout",
     "output_type": "stream",
     "text": [
      "A Acurácia do modelo RandomForestClassifier é de 65.32 %\n"
     ]
    }
   ],
   "source": [
    "from sklearn.ensemble import RandomForestClassifier\n",
    "\n",
    "RFC = RandomForestClassifier(n_estimators=100, random_state=42)\n",
    "RFC.fit(X_train,y_train)\n",
    "previsao_RFC = RFC.predict(X_test)\n",
    "\n",
    "print('A Acurácia do modelo RandomForestClassifier é de {:.2f} %'.format(RFC.score(X_test,y_test)*100))"
   ]
  },
  {
   "cell_type": "markdown",
   "id": "0e2c618f",
   "metadata": {},
   "source": [
    "### Selecionando as melhores variáveis e reduzindo o modelo "
   ]
  },
  {
   "cell_type": "code",
   "execution_count": 80,
   "id": "bbefc5ad",
   "metadata": {},
   "outputs": [
    {
     "data": {
      "text/plain": [
       "SelectKBest(score_func=<function chi2 at 0x00000225293A6B80>)"
      ]
     },
     "execution_count": 80,
     "metadata": {},
     "output_type": "execute_result"
    }
   ],
   "source": [
    "from sklearn.feature_selection import SelectKBest, chi2 \n",
    "\n",
    "X = dados_final.drop(['Alta_Renda'], axis=1)\n",
    "y = dados_final['Alta_Renda']\n",
    "\n",
    "X_train, X_test, y_train, y_test = train_test_split(X, y, test_size=0.3, random_state=42, stratify=y)\n",
    "\n",
    "melhores = SelectKBest(chi2, k=10) # k é o número de variáveis a serem selecionadas no caso as 10 melhores, influentes\n",
    "melhores # a chi2 não aceita valores negativos"
   ]
  },
  {
   "cell_type": "code",
   "execution_count": 81,
   "id": "2a1234eb",
   "metadata": {},
   "outputs": [
    {
     "data": {
      "text/plain": [
       "SelectKBest(score_func=<function chi2 at 0x00000225293A6B80>)"
      ]
     },
     "execution_count": 81,
     "metadata": {},
     "output_type": "execute_result"
    }
   ],
   "source": [
    "melhores.fit(X_train,y_train)"
   ]
  },
  {
   "cell_type": "code",
   "execution_count": 82,
   "id": "02778085",
   "metadata": {},
   "outputs": [],
   "source": [
    "# transformando e selecionando 5 variáveis\n",
    "treino_kbest = melhores.transform(X_train)\n",
    "teste_kbest = melhores.transform(X_test)"
   ]
  },
  {
   "cell_type": "code",
   "execution_count": 83,
   "id": "8be50bed",
   "metadata": {},
   "outputs": [
    {
     "name": "stdout",
     "output_type": "stream",
     "text": [
      "A Acurácia do modelo RandomForestClassifier é de 71.50 %\n"
     ]
    }
   ],
   "source": [
    "# Importando o RandomForestClassifier um conjunto de árvores de decisão, testando novamente\n",
    "\n",
    "RFC_atual = RandomForestClassifier(n_estimators=100, random_state=42)\n",
    "RFC_atual.fit(treino_kbest,y_train)\n",
    "previsao_RFC_atual = RFC_atual.predict(teste_kbest)\n",
    "# calculando a acurácia\n",
    "print('A Acurácia do modelo RandomForestClassifier é de {:.2f} %'.format(RFC_atual.score(teste_kbest,y_test)*100))"
   ]
  },
  {
   "cell_type": "code",
   "execution_count": 84,
   "id": "c008acea",
   "metadata": {},
   "outputs": [],
   "source": [
    "# Isso demonstra que o modelo RandomForestClassifier utilizando somente 10 variáveis consegue prever quase o mesmo que \n",
    "# a árvore de decisão utilizando todas.\n",
    "# essa atitude nesse caso diminui recursos a serem utilizados e o tempo perguntando ao futuro cliente, simplificando o \n",
    "# atendimento"
   ]
  },
  {
   "cell_type": "markdown",
   "id": "72ff790e",
   "metadata": {},
   "source": [
    "# Seleção das variáveis com RFECV"
   ]
  },
  {
   "cell_type": "code",
   "execution_count": 85,
   "id": "d33cb557",
   "metadata": {},
   "outputs": [
    {
     "name": "stdout",
     "output_type": "stream",
     "text": [
      "Resultado da Classificação de 71.34 %\n"
     ]
    }
   ],
   "source": [
    "# Maximizando o modelo com RFECV, porém consome mais recursos computacionais\n",
    "from sklearn.feature_selection import RFECV\n",
    "\n",
    "X_train, X_test, y_train, y_test = train_test_split(X, y, test_size=0.3, random_state=42, stratify=y)\n",
    "\n",
    "classificador = RandomForestClassifier(n_estimators=100, random_state=42)\n",
    "\n",
    "classificador.fit(X_train,y_train)\n",
    "\n",
    "selector = RFECV(estimator = classificador, cv=5, step=1, scoring='accuracy') # step -> passos no caso somente 1\n",
    "\n",
    "selector.fit(X_train,y_train)\n",
    "\n",
    "treino_rfecv = selector.transform(X_train)\n",
    "teste_rfecv = selector.transform(X_test)\n",
    "\n",
    "classificador.fit(treino_rfecv,y_train)\n",
    "predicao = classificador.predict(teste_rfecv)\n",
    "\n",
    "# calculando a acurácia\n",
    "print('Resultado da Classificação de {:.2f} %'.format(classificador.score(teste_rfecv,y_test)*100))"
   ]
  },
  {
   "cell_type": "code",
   "execution_count": 86,
   "id": "5545a58c",
   "metadata": {},
   "outputs": [
    {
     "data": {
      "text/plain": [
       "array([[1066,  454],\n",
       "       [ 417, 1102]], dtype=int64)"
      ]
     },
     "execution_count": 86,
     "metadata": {},
     "output_type": "execute_result"
    }
   ],
   "source": [
    "matriz = confusion_matrix(y_test,predicao)\n",
    "matriz"
   ]
  },
  {
   "cell_type": "code",
   "execution_count": 87,
   "id": "b26fcb7b",
   "metadata": {},
   "outputs": [
    {
     "data": {
      "image/png": "[encoded data removed]",
      "text/plain": [
       "<Figure size 640x480 with 2 Axes>"
      ]
     },
     "metadata": {},
     "output_type": "display_data"
    }
   ],
   "source": [
    "import seaborn as sns\n",
    "ax = sns.heatmap(matriz, annot=True, fmt='d')\n",
    "# cada análise de 1520 clientes de baixa renda o modelo acerta 1066\n",
    "# cada análise de 1519 clientes de alta renda o modelo acerta 1102\n",
    "# Possuindo 71% de precisão"
   ]
  },
  {
   "cell_type": "code",
   "execution_count": 88,
   "id": "7a54f950",
   "metadata": {},
   "outputs": [
    {
     "data": {
      "text/plain": [
       "5"
      ]
     },
     "execution_count": 88,
     "metadata": {},
     "output_type": "execute_result"
    }
   ],
   "source": [
    "selector.n_features_ # ele selecionou 5 variáveis para ter o melhore resultado possível"
   ]
  },
  {
   "cell_type": "code",
   "execution_count": 89,
   "id": "ff8a499b",
   "metadata": {},
   "outputs": [
    {
     "data": {
      "text/plain": [
       "array([ True,  True,  True, False, False, False, False, False, False,\n",
       "       False, False, False, False, False, False, False, False, False,\n",
       "       False, False, False,  True, False, False,  True, False])"
      ]
     },
     "execution_count": 89,
     "metadata": {},
     "output_type": "execute_result"
    }
   ],
   "source": [
    "selector.support_ # as variáveis que o algoritmo selecionou "
   ]
  },
  {
   "cell_type": "code",
   "execution_count": 90,
   "id": "9320549a",
   "metadata": {},
   "outputs": [
    {
     "data": {
      "text/plain": [
       "Index(['Idade', 'Sexo_F', 'Sexo_M', 'Renda_$40K - $60K',\n",
       "       'Renda_Less than $40K'],\n",
       "      dtype='object')"
      ]
     },
     "execution_count": 90,
     "metadata": {},
     "output_type": "execute_result"
    }
   ],
   "source": [
    "X_train.columns[selector.support_] # As variáveis selecionadas "
   ]
  },
  {
   "cell_type": "code",
   "execution_count": 91,
   "id": "65364340",
   "metadata": {},
   "outputs": [
    {
     "name": "stderr",
     "output_type": "stream",
     "text": [
      "C:\\Users\\otaci\\anaconda3\\lib\\site-packages\\sklearn\\utils\\deprecation.py:103: FutureWarning: The `grid_scores_` attribute is deprecated in version 1.0 in favor of `cv_results_` and will be removed in version 1.2.\n",
      "  warnings.warn(msg, category=FutureWarning)\n"
     ]
    },
    {
     "data": {
      "text/plain": [
       "26"
      ]
     },
     "execution_count": 91,
     "metadata": {},
     "output_type": "execute_result"
    }
   ],
   "source": [
    "len(selector.grid_scores_)"
   ]
  },
  {
   "cell_type": "code",
   "execution_count": 92,
   "id": "44e40b1c",
   "metadata": {},
   "outputs": [
    {
     "data": {
      "image/png": "[encoded data removed]",
      "text/plain": [
       "<Figure size 1100x600 with 1 Axes>"
      ]
     },
     "metadata": {},
     "output_type": "display_data"
    }
   ],
   "source": [
    "plt.figure(figsize=(11,6))\n",
    "plt.xlabel('Número de variáveis')\n",
    "plt.ylabel('Acurácia')\n",
    "plt.plot(range(1, len(selector.grid_scores_)+1),selector.grid_scores_ )\n",
    "plt.show()"
   ]
  },
  {
   "cell_type": "code",
   "execution_count": 93,
   "id": "6ed89945",
   "metadata": {},
   "outputs": [],
   "source": [
    "# Com essa análise podemos resumir o modelo a 5 variáveis, maximizando recursos e diminuindo perguntas ao cliente"
   ]
  },
  {
   "cell_type": "markdown",
   "id": "76b79886",
   "metadata": {},
   "source": [
    "# Nova Conclusão "
   ]
  },
  {
   "cell_type": "code",
   "execution_count": 94,
   "id": "e3ca8757",
   "metadata": {},
   "outputs": [
    {
     "name": "stdout",
     "output_type": "stream",
     "text": [
      "O modelo TREE DECISION possui 71.60 % de acerto\n",
      "                                                                             \n",
      "-----------------------------------------------------------------------------\n",
      "                                                                             \n",
      "O modelo RANDOM FOREST reduzido a 5 melhores variáveis possui 71.34 % de acerto\n",
      "                                                                             \n",
      "-----------------------------------------------------------------------------\n",
      "                                                                             \n",
      "TREE DECISION ---> 71.60%\n",
      "RANDOM FOREST ---> 71.34%\n"
     ]
    }
   ],
   "source": [
    "print('O modelo TREE DECISION possui 71.60 % de acerto')\n",
    "print('                                                                             ')\n",
    "print('-----------------------------------------------------------------------------')\n",
    "print('                                                                             ')\n",
    "print('O modelo RANDOM FOREST reduzido a 5 melhores variáveis possui {:.2f} % de acerto'\n",
    "      .format(classificador.score(teste_rfecv,y_test)*100))\n",
    "print('                                                                             ')\n",
    "print('-----------------------------------------------------------------------------')\n",
    "print('                                                                             ')\n",
    "print('TREE DECISION ---> 71.60%')\n",
    "print('RANDOM FOREST ---> 71.34%')"
   ]
  },
  {
   "cell_type": "code",
   "execution_count": 95,
   "id": "cf383466",
   "metadata": {},
   "outputs": [],
   "source": [
    "## Resumo:\n",
    "\n",
    "# Apesar dos dois modelos satisfazerem a necessidade devemos escolher o Random Forest devido o menor nível \n",
    "# de informação(variáveis), com menos dados, ou seja menos perguntas íntimas aos clientes podemos prever se esse possui\n",
    "# alta renda e pouca possibilidade de endividamento podendo ter limites maiores do cartão de crédito"
   ]
  },
  {
   "cell_type": "markdown",
   "id": "2e13d33f",
   "metadata": {},
   "source": [
    "# Reduzindo a 5 variáveis a árvore de decisão"
   ]
  },
  {
   "cell_type": "code",
   "execution_count": null,
   "id": "aee29f0b",
   "metadata": {},
   "outputs": [],
   "source": [
    "variáveis = ['Idade', 'Sexo_F', 'Sexo_M', 'Renda_$40K - $60K',\n",
    "       'Renda_Less than $40K'"
   ]
  },
  {
   "cell_type": "code",
   "execution_count": 97,
   "id": "532e8824",
   "metadata": {},
   "outputs": [
    {
     "data": {
      "text/html": [
       "<div>\n",
       "<style scoped>\n",
       "    .dataframe tbody tr th:only-of-type {\n",
       "        vertical-align: middle;\n",
       "    }\n",
       "\n",
       "    .dataframe tbody tr th {\n",
       "        vertical-align: top;\n",
       "    }\n",
       "\n",
       "    .dataframe thead th {\n",
       "        text-align: right;\n",
       "    }\n",
       "</style>\n",
       "<table border=\"1\" class=\"dataframe\">\n",
       "  <thead>\n",
       "    <tr style=\"text-align: right;\">\n",
       "      <th></th>\n",
       "      <th>Idade</th>\n",
       "      <th>Sexo</th>\n",
       "      <th>Dependentes</th>\n",
       "      <th>Nivel_educacional</th>\n",
       "      <th>Estado_civil</th>\n",
       "      <th>Renda</th>\n",
       "      <th>limite_do_cartao2</th>\n",
       "    </tr>\n",
       "  </thead>\n",
       "  <tbody>\n",
       "    <tr>\n",
       "      <th>0</th>\n",
       "      <td>51</td>\n",
       "      <td>M</td>\n",
       "      <td>3</td>\n",
       "      <td>Graduate</td>\n",
       "      <td>Married</td>\n",
       "      <td>$80K - $120K</td>\n",
       "      <td>0</td>\n",
       "    </tr>\n",
       "    <tr>\n",
       "      <th>1</th>\n",
       "      <td>51</td>\n",
       "      <td>M</td>\n",
       "      <td>3</td>\n",
       "      <td>Graduate</td>\n",
       "      <td>Married</td>\n",
       "      <td>$80K - $120K</td>\n",
       "      <td>0</td>\n",
       "    </tr>\n",
       "    <tr>\n",
       "      <th>2</th>\n",
       "      <td>40</td>\n",
       "      <td>F</td>\n",
       "      <td>4</td>\n",
       "      <td>High School</td>\n",
       "      <td>Unknown</td>\n",
       "      <td>Less than $40K</td>\n",
       "      <td>0</td>\n",
       "    </tr>\n",
       "  </tbody>\n",
       "</table>\n",
       "</div>"
      ],
      "text/plain": [
       "   Idade Sexo Dependentes Nivel_educacional Estado_civil           Renda  \\\n",
       "0     51    M           3          Graduate      Married    $80K - $120K   \n",
       "1     51    M           3          Graduate      Married    $80K - $120K   \n",
       "2     40    F           4       High School      Unknown  Less than $40K   \n",
       "\n",
       "   limite_do_cartao2  \n",
       "0                  0  \n",
       "1                  0  \n",
       "2                  0  "
      ]
     },
     "execution_count": 97,
     "metadata": {},
     "output_type": "execute_result"
    }
   ],
   "source": [
    "dados.head(3)"
   ]
  },
  {
   "cell_type": "code",
   "execution_count": 101,
   "id": "ecc10cdf",
   "metadata": {},
   "outputs": [
    {
     "data": {
      "text/html": [
       "<div>\n",
       "<style scoped>\n",
       "    .dataframe tbody tr th:only-of-type {\n",
       "        vertical-align: middle;\n",
       "    }\n",
       "\n",
       "    .dataframe tbody tr th {\n",
       "        vertical-align: top;\n",
       "    }\n",
       "\n",
       "    .dataframe thead th {\n",
       "        text-align: right;\n",
       "    }\n",
       "</style>\n",
       "<table border=\"1\" class=\"dataframe\">\n",
       "  <thead>\n",
       "    <tr style=\"text-align: right;\">\n",
       "      <th></th>\n",
       "      <th>Idade</th>\n",
       "      <th>Sexo_F</th>\n",
       "      <th>Sexo_M</th>\n",
       "      <th>Renda_$40K - $60K</th>\n",
       "      <th>Renda_Less than $40K</th>\n",
       "    </tr>\n",
       "  </thead>\n",
       "  <tbody>\n",
       "    <tr>\n",
       "      <th>0</th>\n",
       "      <td>51</td>\n",
       "      <td>0</td>\n",
       "      <td>1</td>\n",
       "      <td>0</td>\n",
       "      <td>0</td>\n",
       "    </tr>\n",
       "    <tr>\n",
       "      <th>1</th>\n",
       "      <td>51</td>\n",
       "      <td>0</td>\n",
       "      <td>1</td>\n",
       "      <td>0</td>\n",
       "      <td>0</td>\n",
       "    </tr>\n",
       "    <tr>\n",
       "      <th>2</th>\n",
       "      <td>40</td>\n",
       "      <td>1</td>\n",
       "      <td>0</td>\n",
       "      <td>0</td>\n",
       "      <td>1</td>\n",
       "    </tr>\n",
       "    <tr>\n",
       "      <th>3</th>\n",
       "      <td>44</td>\n",
       "      <td>0</td>\n",
       "      <td>1</td>\n",
       "      <td>1</td>\n",
       "      <td>0</td>\n",
       "    </tr>\n",
       "    <tr>\n",
       "      <th>4</th>\n",
       "      <td>44</td>\n",
       "      <td>0</td>\n",
       "      <td>1</td>\n",
       "      <td>1</td>\n",
       "      <td>0</td>\n",
       "    </tr>\n",
       "    <tr>\n",
       "      <th>...</th>\n",
       "      <td>...</td>\n",
       "      <td>...</td>\n",
       "      <td>...</td>\n",
       "      <td>...</td>\n",
       "      <td>...</td>\n",
       "    </tr>\n",
       "    <tr>\n",
       "      <th>10122</th>\n",
       "      <td>55</td>\n",
       "      <td>1</td>\n",
       "      <td>0</td>\n",
       "      <td>0</td>\n",
       "      <td>0</td>\n",
       "    </tr>\n",
       "    <tr>\n",
       "      <th>10123</th>\n",
       "      <td>54</td>\n",
       "      <td>0</td>\n",
       "      <td>1</td>\n",
       "      <td>0</td>\n",
       "      <td>0</td>\n",
       "    </tr>\n",
       "    <tr>\n",
       "      <th>10124</th>\n",
       "      <td>44</td>\n",
       "      <td>1</td>\n",
       "      <td>0</td>\n",
       "      <td>0</td>\n",
       "      <td>1</td>\n",
       "    </tr>\n",
       "    <tr>\n",
       "      <th>10125</th>\n",
       "      <td>30</td>\n",
       "      <td>0</td>\n",
       "      <td>1</td>\n",
       "      <td>1</td>\n",
       "      <td>0</td>\n",
       "    </tr>\n",
       "    <tr>\n",
       "      <th>10126</th>\n",
       "      <td>43</td>\n",
       "      <td>1</td>\n",
       "      <td>0</td>\n",
       "      <td>0</td>\n",
       "      <td>1</td>\n",
       "    </tr>\n",
       "  </tbody>\n",
       "</table>\n",
       "<p>10127 rows × 5 columns</p>\n",
       "</div>"
      ],
      "text/plain": [
       "       Idade  Sexo_F  Sexo_M  Renda_$40K - $60K  Renda_Less than $40K\n",
       "0         51       0       1                  0                     0\n",
       "1         51       0       1                  0                     0\n",
       "2         40       1       0                  0                     1\n",
       "3         44       0       1                  1                     0\n",
       "4         44       0       1                  1                     0\n",
       "...      ...     ...     ...                ...                   ...\n",
       "10122     55       1       0                  0                     0\n",
       "10123     54       0       1                  0                     0\n",
       "10124     44       1       0                  0                     1\n",
       "10125     30       0       1                  1                     0\n",
       "10126     43       1       0                  0                     1\n",
       "\n",
       "[10127 rows x 5 columns]"
      ]
     },
     "execution_count": 101,
     "metadata": {},
     "output_type": "execute_result"
    }
   ],
   "source": [
    "dataset = dados_final[['Idade', 'Sexo_F', 'Sexo_M', 'Renda_$40K - $60K','Renda_Less than $40K']]\n",
    "dataset"
   ]
  },
  {
   "cell_type": "code",
   "execution_count": 102,
   "id": "41576dde",
   "metadata": {},
   "outputs": [],
   "source": [
    "# Biblioteca para divisão dos dados \n",
    "from sklearn.model_selection import train_test_split\n",
    "x = dataset[['Idade', 'Sexo_F', 'Sexo_M', 'Renda_$40K - $60K','Renda_Less than $40K']]\n",
    "y= dados['limite_do_cartao2']\n",
    "X_train, X_test, y_train, y_test = train_test_split(x, y, test_size=0.3, random_state=99, stratify=y)"
   ]
  },
  {
   "cell_type": "code",
   "execution_count": 118,
   "id": "4d4485a6",
   "metadata": {},
   "outputs": [
    {
     "name": "stdout",
     "output_type": "stream",
     "text": [
      "O modelo tree decision possui 72.06 % de acerto\n"
     ]
    }
   ],
   "source": [
    "# Previsão com as melhores variáveis para o modelo de decision tree\n",
    "modelo = DecisionTreeClassifier(criterion='entropy', random_state=42, max_depth=6)\n",
    "modelo.fit(X_train, y_train)\n",
    "previsao_arvoredecisao = modelo.predict(X_test)\n",
    "# modelo árvore de decisão\n",
    "print('O modelo tree decision possui {:.2f} % de acerto'.format(accuracy_score(y_test, previsao_arvoredecisao)*100))"
   ]
  },
  {
   "cell_type": "code",
   "execution_count": 130,
   "id": "a5c8f39c",
   "metadata": {},
   "outputs": [
    {
     "name": "stdout",
     "output_type": "stream",
     "text": [
      "O modelo tree decision possui 71.77 % de acerto\n"
     ]
    }
   ],
   "source": [
    "# Previsão com as melhores variáveis para o modelo de randomforest\n",
    "modelo = RandomForestClassifier(n_estimators=100, random_state=42,max_depth=6)\n",
    "modelo.fit(X_train, y_train)\n",
    "previsao_rf = modelo.predict(X_test)\n",
    "# modelo árvore de decisão\n",
    "print('O modelo tree decision possui {:.2f} % de acerto'.format(accuracy_score(y_test, previsao_rf)*100))"
   ]
  },
  {
   "cell_type": "code",
   "execution_count": 131,
   "id": "0bcd9019",
   "metadata": {},
   "outputs": [
    {
     "name": "stdout",
     "output_type": "stream",
     "text": [
      "O modelo tree decision com 5 variáveis possui 72.06 % de acerto\n",
      "O modelo tree decision com 5 variáveis possui 71.36 % de precisão\n",
      "O modelo tree decision com 5 variáveis possui 73.67 % de recall\n"
     ]
    }
   ],
   "source": [
    "print('O modelo tree decision com 5 variáveis possui {:.2f} % de acerto'.format(accuracy_score(y_test, previsao_arvoredecisao)*100))\n",
    "print('O modelo tree decision com 5 variáveis possui {:.2f} % de precisão'.format(precision_score(y_test, previsao_arvoredecisao)*100))\n",
    "print('O modelo tree decision com 5 variáveis possui {:.2f} % de recall'.format(recall_score(y_test, previsao_arvoredecisao)*100))"
   ]
  },
  {
   "cell_type": "code",
   "execution_count": 132,
   "id": "1a6ff8e8",
   "metadata": {},
   "outputs": [
    {
     "name": "stdout",
     "output_type": "stream",
     "text": [
      "O modelo Random Forest com 5 variáveis possui 71.77 % de acerto\n",
      "O modelo Random Forest com 5 variáveis possui 70.26 % de precisão\n",
      "O modelo Random Forest com 5 variáveis possui 75.44 % de recall\n"
     ]
    }
   ],
   "source": [
    "print('O modelo Random Forest com 5 variáveis possui {:.2f} % de acerto'.format(accuracy_score(y_test, previsao_rf)*100))\n",
    "print('O modelo Random Forest com 5 variáveis possui {:.2f} % de precisão'.format(precision_score(y_test, previsao_rf)*100))\n",
    "print('O modelo Random Forest com 5 variáveis possui {:.2f} % de recall'.format(recall_score(y_test, previsao_rf)*100))"
   ]
  }
 ],
 "metadata": {
  "kernelspec": {
   "display_name": "Python 3 (ipykernel)",
   "language": "python",
   "name": "python3"
  },
  "language_info": {
   "codemirror_mode": {
    "name": "ipython",
    "version": 3
   },
   "file_extension": ".py",
   "mimetype": "text/x-python",
   "name": "python",
   "nbconvert_exporter": "python",
   "pygments_lexer": "ipython3",
   "version": "3.11.3"
  }
 },
 "nbformat": 4,
 "nbformat_minor": 5
}
